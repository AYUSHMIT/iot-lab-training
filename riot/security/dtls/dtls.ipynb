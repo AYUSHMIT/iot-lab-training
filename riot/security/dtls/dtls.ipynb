{
 "cells": [
  {
   "cell_type": "markdown",
   "metadata": {},
   "source": [
    "## DTLS communication\n",
    "\n",
    "In this exercise, you will simply book 2 IoT-LAB M3 devices and use one of the RIOT example to perform an encrypted DTLS communication between them.\n",
    "\n",
    "The example is based the [WolfSSL library](https://www.wolfssl.com/) which is adapted to RIOT as an external package.\n",
    "\n",
    "The source code of the examples is available on the [GitHub repository of RIOT](https://github.com/RIOT-OS/RIOT/tree/master/examples/dtls-wolfssl).\n",
    "\n",
    "### Submit an experiment on 2 M3 devices"
   ]
  },
  {
   "cell_type": "code",
   "execution_count": null,
   "metadata": {},
   "outputs": [],
   "source": [
    "!iotlab-experiment submit -n \"riot-dtls\" -d 20 -l 2,archi=m3:at86rf231+site=grenoble"
   ]
  },
  {
   "cell_type": "code",
   "execution_count": null,
   "metadata": {},
   "outputs": [],
   "source": [
    "!iotlab-experiment wait"
   ]
  },
  {
   "cell_type": "code",
   "execution_count": null,
   "metadata": {},
   "outputs": [],
   "source": [
    "!iotlab-experiment get -r"
   ]
  },
  {
   "cell_type": "markdown",
   "metadata": {},
   "source": [
    "2. Build and flash the application on the devices:"
   ]
  },
  {
   "cell_type": "code",
   "execution_count": null,
   "metadata": {},
   "outputs": [],
   "source": [
    "!make QUIET=0 BOARD=iotlab-m3 -C ../../RIOT/examples/dtls-wolfssl"
   ]
  },
  {
   "cell_type": "code",
   "execution_count": null,
   "metadata": {},
   "outputs": [],
   "source": [
    "!iotlab-node --update ../../RIOT/examples/dtls-wolfssl/bin/iotlab-m3/dtls-wolfssl.elf"
   ]
  }
 ],
 "metadata": {
  "kernelspec": {
   "display_name": "Python 3",
   "language": "python",
   "name": "python3"
  },
  "language_info": {
   "codemirror_mode": {
    "name": "ipython",
    "version": 3
   },
   "file_extension": ".py",
   "mimetype": "text/x-python",
   "name": "python",
   "nbconvert_exporter": "python",
   "pygments_lexer": "ipython3",
   "version": "3.6.8"
  }
 },
 "nbformat": 4,
 "nbformat_minor": 4
}
