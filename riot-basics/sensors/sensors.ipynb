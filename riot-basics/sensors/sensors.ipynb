{
 "cells": [
  {
   "cell_type": "markdown",
   "metadata": {},
   "source": [
    "## Use sensors on the IoT-LAB M3 board\n",
    "\n",
    "The IoT-LAB M3 board provides several sensors:\n",
    "- lps331ap: an temperature and atmospheric pressure sensor\n",
    "- l3g4200d: a gyroscope\n",
    "- lsm303dlhc: an accelerometer and magnetometer\n",
    "- isl29020: a light sensor\n",
    "\n",
    "In this exercise, we propose to read and display the values of the lps331ap and lsm303dlhc sensors using RIOT available high-level drivers.\n",
    "\n",
    "The lps331ap values will be read and displayed from the main thread every 2 seconds and the lsm303dlhc values will be read and displayed from a separate thread every 500ms.\n",
    "\n",
    "### Start an experiment on IoT-LAB\n",
    "\n",
    "Let's start by booking on IoT-LAB M3 board on the Grenoble site of IoT-LAB:"
   ]
  },
  {
   "cell_type": "code",
   "execution_count": null,
   "metadata": {},
   "outputs": [],
   "source": [
    "!iotlab-experiment submit -n \"riot-sensors\" -d 20 -l 1,archi=m3:at86rf231+site=grenoble"
   ]
  },
  {
   "cell_type": "code",
   "execution_count": null,
   "metadata": {},
   "outputs": [],
   "source": [
    "!iotlab-experiment wait"
   ]
  },
  {
   "cell_type": "code",
   "execution_count": null,
   "metadata": {},
   "outputs": [],
   "source": [
    "!iotlab-experiment get -r"
   ]
  },
  {
   "cell_type": "markdown",
   "metadata": {},
   "source": [
    "### Read the lps331ap sensor\n",
    "\n",
    "To read the lps331ap sensor, use the lps331ap module driver.\n",
    "\n",
    "1. In the application `Makefile`, add the lps331ap module to the build:\n",
    "\n",
    "```Makefile\n",
    "USEMODULE += lps331ap\n",
    "```\n",
    "\n",
    "2. In the `main.c`, add the necessary includes for this driver:\n",
    "\n",
    "```c\n",
    "#include \"lpsxxx.h\"\n",
    "#include \"lpsxxx_params.h\"\n",
    "```\n",
    "\n",
    "**Note:** The files, device descriptor type and function names start with `lpsxxx` because this driver is generic and also works with the lps25hb and lps22hb variants.\n",
    "\n",
    "3. Declare the device descriptor variable:\n",
    "\n",
    "```c\n",
    "static lpsxxx_t lpsxxx;\n",
    "```\n",
    "\n",
    "4. In the main function, initialize the driver:\n",
    "\n",
    "```c\n",
    "lpsxxx_init(&lpsxxx, &lpsxxx_params[0]);\n",
    "```\n",
    "\n",
    "5. Read the temperature and pressure values every 2 seconds in an endless loop before the main function returns:\n",
    "\n",
    "```c\n",
    "    while (1) {\n",
    "        uint16_t pres = 0;\n",
    "        int16_t temp = 0;\n",
    "        lpsxxx_read_temp(&lpsxxx, &temp);\n",
    "        lpsxxx_read_pres(&lpsxxx, &pres);\n",
    "        printf(\"Pressure: %uhPa, Temperature: %u.%u°C\\n\",\n",
    "               pres, (temp / 100), (temp % 100));\n",
    "        xtimer_sleep(2);\n",
    "    }\n",
    "```\n",
    "\n",
    "6. Build and flash the application:"
   ]
  },
  {
   "cell_type": "code",
   "execution_count": null,
   "metadata": {},
   "outputs": [],
   "source": [
    "!make IOTLAB_NODE=auto-ssh flash"
   ]
  },
  {
   "cell_type": "markdown",
   "metadata": {},
   "source": [
    "In the terminal on the right, connect to the serial port of the IoT-LAB M3 and observe the value displayed every 2 seconds:\n",
    "\n",
    "```sh\n",
    "make IOTLAB_NODE=auto-ssh -C riot-basics/sensors term\n",
    "```\n",
    "\n",
    "Keep the terminal open until you complete the next section.\n",
    "\n",
    "### Read the lsm303dlhc sensor\n",
    "\n",
    "To read the lsm303dlhc sensor, use the lsm303dlhc module driver. In this part of the exercise, the driver is read from a separate background thread.\n",
    "\n",
    "1. In the application `Makefile`, add the lsm303dlhc module to the build:\n",
    "\n",
    "```Makefile\n",
    "USEMODULE += lsm303dlhc\n",
    "```\n",
    "\n",
    "2. In the `main.c`, add the necessary includes for this driver:\n",
    "\n",
    "```c\n",
    "#include \"lsm303dlhc.h\"\n",
    "#include \"lsm303dlhc_params.h\"\n",
    "```\n",
    "\n",
    "3. In the main function, initialize the driver:\n",
    "\n",
    "```c\n",
    "lsm303dlhc_init(&lsm303dlhc, lsm303dlhc_params);\n",
    "```\n",
    "\n",
    "4. Read the accelerometer and magnetometer values every 500ms in an endless loop in the thread handler function:\n",
    "\n",
    "```c\n",
    "    while (1) {\n",
    "        lsm303dlhc_3d_data_t mag_value;\n",
    "        lsm303dlhc_3d_data_t acc_value;\n",
    "        lsm303dlhc_read_acc(&lsm303dlhc, &acc_value);\n",
    "        printf(\"Accelerometer x: %i y: %i z: %i\\n\",\n",
    "               acc_value.x_axis, acc_value.y_axis, acc_value.z_axis);\n",
    "        lsm303dlhc_read_mag(&lsm303dlhc, &mag_value);\n",
    "        printf(\"Magnetometer x: %i y: %i z: %i\\n\",\n",
    "               mag_value.x_axis, mag_value.y_axis, mag_value.z_axis);\n",
    "        xtimer_usleep(500 * US_PER_MS);\n",
    "    }\n",
    "```\n",
    "\n",
    "5. Build and flash the application:"
   ]
  },
  {
   "cell_type": "code",
   "execution_count": null,
   "metadata": {},
   "outputs": [],
   "source": [
    "!make IOTLAB_NODE=auto-ssh flash"
   ]
  },
  {
   "cell_type": "markdown",
   "metadata": {},
   "source": [
    "If you kept the serial output opened in the terminal, you should now get the temperature, pressure, accelerometer and magnetometer values displayed at different rates.\n",
    "\n",
    "Congratulations, you completed with success all RIOT exercises of this Mooc!"
   ]
  }
 ],
 "metadata": {
  "kernelspec": {
   "display_name": "Python 3",
   "language": "python",
   "name": "python3"
  },
  "language_info": {
   "codemirror_mode": {
    "name": "ipython",
    "version": 3
   },
   "file_extension": ".py",
   "mimetype": "text/x-python",
   "name": "python",
   "nbconvert_exporter": "python",
   "pygments_lexer": "ipython3",
   "version": "3.6.8"
  }
 },
 "nbformat": 4,
 "nbformat_minor": 4
}
