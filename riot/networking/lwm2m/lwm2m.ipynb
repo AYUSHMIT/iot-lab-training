{
 "cells": [
  {
   "cell_type": "markdown",
   "metadata": {},
   "source": [
    "## Discover LwM2M protocol\n",
    "\n",
    "In this excercice we will use the RIOT LwM2M wakaama client implementation. Lightweight M2M is a communication protocol from the Open Mobile Alliance built to provide a link between a device equipped with a LwM2M client and LwM2M-enabled servers. LwM2M protocol lets users remotely perform tasks, run application and device management on their IoT embedded devices. The LWM2M protocol stack is based on CoAP.\n",
    "\n",
    "You will learn how to deploy a public IPv6 network with IoT-LAB M3 nodes and register a RIOT LwM2M client to the IoT-LAB Leshan server (java implementation of LwM2M server). Moreover you will discover the resource model of LwM2M.  Each piece of information made available by the LWM2M Client is a Resource. The Resources are further logically organized into Objects. Thus you will define a temperature object and the associated resource based on the LPS331ap sensor.\n"
   ]
  },
  {
   "cell_type": "markdown",
   "metadata": {},
   "source": [
    "#### Radio settings\n",
    "\n",
    "If you are running this training as the same time as other people, it is a good idea to change the default radio configuration to avoid too much collision with others.\n",
    "\n",
    "Use the following cell to give you random values for channel and PAN ID."
   ]
  },
  {
   "cell_type": "code",
   "execution_count": null,
   "metadata": {},
   "outputs": [],
   "source": [
    "import os,binascii,random\n",
    "pan_id = binascii.b2a_hex(os.urandom(2)).decode()\n",
    "channel = random.randint(11, 26)\n",
    "print('Use CHANNEL={}, PAN_ID=0x{}'.format(channel, pan_id))"
   ]
  },
  {
   "cell_type": "markdown",
   "metadata": {},
   "source": [
    "For these values to be taken into account you can set an environment variable for the notebook. Modify the values in the cell below with those obtained and execute it."
   ]
  },
  {
   "cell_type": "code",
   "execution_count": null,
   "metadata": {},
   "outputs": [],
   "source": [
    "%env CHANNEL=11"
   ]
  },
  {
   "cell_type": "code",
   "execution_count": null,
   "metadata": {},
   "outputs": [],
   "source": [
    "%env PAN_ID=0xBEEF"
   ]
  },
  {
   "cell_type": "markdown",
   "metadata": {},
   "source": [
    "### Submit an experiment on IoT-LAB\n",
    "\n",
    "1. Choose your site (grenoble|lille|strasbourg):"
   ]
  },
  {
   "cell_type": "code",
   "execution_count": null,
   "metadata": {},
   "outputs": [],
   "source": [
    "%env SITE=grenoble"
   ]
  },
  {
   "cell_type": "markdown",
   "metadata": {},
   "source": [
    "2. Submit an experiment with two nodes"
   ]
  },
  {
   "cell_type": "code",
   "execution_count": null,
   "metadata": {},
   "outputs": [],
   "source": [
    "!iotlab-experiment submit -d 120 -l 2,archi=m3:at86rf231+site=$SITE"
   ]
  },
  {
   "cell_type": "markdown",
   "metadata": {},
   "source": [
    "3. Wait for the experiment to be in the Running state:"
   ]
  },
  {
   "cell_type": "code",
   "execution_count": null,
   "metadata": {},
   "outputs": [],
   "source": [
    "!iotlab-experiment wait --timeout 30 --cancel-on-timeout"
   ]
  },
  {
   "cell_type": "markdown",
   "metadata": {},
   "source": [
    "**Note:** If the command above returns the message `Timeout reached, cancelling experiment <exp_id>`, try to re-submit your experiment later or try on another site."
   ]
  },
  {
   "cell_type": "markdown",
   "metadata": {},
   "source": [
    "4. Check the nodes allocated to the experiment"
   ]
  },
  {
   "cell_type": "code",
   "execution_count": null,
   "metadata": {},
   "outputs": [],
   "source": [
    "!iotlab-experiment get -ni"
   ]
  },
  {
   "cell_type": "markdown",
   "metadata": {},
   "source": [
    "### Deploy public IPv6 network\n",
    "\n",
    "1. Compile the RIOT gnrc_border router example\n",
    "\n",
    "A border router is a routing device to connect a wireless sensor network to the Internet based on IPv6 technology."
   ]
  },
  {
   "cell_type": "code",
   "execution_count": null,
   "metadata": {},
   "outputs": [],
   "source": [
    "!make -C ../../RIOT/examples/gnrc_border_router ETHOS_BAUDRATE=500000 BOARD=iotlab-m3 DEFAULT_CHANNEL=$CHANNEL DEFAULT_PAN_ID=$PAN_ID"
   ]
  },
  {
   "cell_type": "markdown",
   "metadata": {},
   "source": [
    "2. Flash the border router firmware\n",
    "\n",
    "From here you will choose one node with the border router role and the other one with LwM2M client role. Replace `<id>` with the good value for the border router node "
   ]
  },
  {
   "cell_type": "code",
   "execution_count": null,
   "metadata": {},
   "outputs": [],
   "source": [
    "!iotlab-node --flash ../../RIOT/examples/gnrc_border_router/bin/iotlab-m3/gnrc_border_router.bin -l $SITE,m3,<id>"
   ]
  },
  {
   "cell_type": "markdown",
   "metadata": {},
   "source": [
    "3. Connect the Border Router to the IPv6 internet\n",
    "\n",
    "Open a Jupyter terminal (use `File > New > Terminal`)\n",
    "\n",
    "Connect to the IoT-LAB SSH frontend and replace ``<site>`` with the good value"
   ]
  },
  {
   "cell_type": "raw",
   "metadata": {},
   "source": [
    "ssh $IOTLAB_LOGIN@<site>.iot-lab.info"
   ]
  },
  {
   "cell_type": "markdown",
   "metadata": {},
   "source": [
    "From the SSH frontend launch ethos_uhcpd.py command with the good parameters. Don't forget to check before if the tap interface and the ipv6 prefix are available."
   ]
  },
  {
   "cell_type": "markdown",
   "metadata": {},
   "source": [
    "| Site       | First Prefix       | Last Prefix        | Number of Prefix |\n",
    "|------------|--------------------|--------------------|--------------------|\n",
    "| Grenoble   | 2001:660:5307:3100 | 2001:660:5307:317f | 128                |\n",
    "| Lille      | 2001:660:4403:0480 | 2001:660:4403:04ff | 128                |\n",
    "| Strasbourg | 2001:660:4701:f0a0 | 2001:660:4701:f0bf | 32                 |"
   ]
  },
  {
   "cell_type": "raw",
   "metadata": {},
   "source": [
    "<login>@<site>:~$ ip addr show | grep tap"
   ]
  },
  {
   "cell_type": "raw",
   "metadata": {},
   "source": [
    "<login>@<site>:~$ ip -6 route"
   ]
  },
  {
   "cell_type": "raw",
   "metadata": {},
   "source": [
    "<login>@<site>:~$ sudo ethos_uhcpd.py m3-<id> tap<num> <public_ipv6_prefix>::1/64\n",
    "net.ipv6.conf.tap5.forwarding = 1\n",
    "net.ipv6.conf.tap5.accept_ra = 0\n",
    "Switch from 'root' to 'user'\n",
    "Switch from 'root' to 'user'\n",
    "Joining IPv6 multicast group...\n",
    "entering loop...\n",
    "----> ethos: sending hello.\n",
    "----> ethos: activating serial pass through.\n",
    "----> ethos: hello reply received\n",
    "..."
   ]
  },
  {
   "cell_type": "markdown",
   "metadata": {},
   "source": [
    "### Register a LwM2M client\n",
    "\n",
    "You can visualize the LwM2M clients which have already been registered on the [IoT-LAB Leshan server](http://leshan.iot-lab.info/#/clients). \n"
   ]
  },
  {
   "cell_type": "markdown",
   "metadata": {},
   "source": [
    "UOpen a Jupyter terminal (use `File > New > Terminal`) and compile the LwM2M client firmware with good parameters\n",
    "\n",
    "* SERVER_ADDR is the public IPv6 address of the IoT-LAB Leshan server.\n",
    "* DEVICE_NAME is the client name \n",
    "\n",
    "Replace `<id> <site>` with the good value for LwM2M client node. Replace `<channel> <pan_id>` by the values you obtained in the `Radio settings` section."
   ]
  },
  {
   "cell_type": "raw",
   "metadata": {},
   "source": [
    "make -C riot/networking/lwm2m SERVER_ADDR=2001:660:5307:3200::2 DEVICE_NAME=m3-<id> BOARD=iotlab-m3 DEFAULT_CHANNEL=<channel> DEFAULT_PAN_ID=<pan_id> IOTLAB_NODE=m3-<id>.<site>.iot-lab.info flash term"
   ]
  },
  {
   "cell_type": "markdown",
   "metadata": {},
   "source": [
    "At this stage you can print the help of the shell and test the IPv6 connectivity with the Leshan server"
   ]
  },
  {
   "cell_type": "raw",
   "metadata": {},
   "source": [
    "> help\n",
    "help\n",
    "Command              Description\n",
    "---------------------------------------\n",
    "lwm2m                Start LwM2M client\n",
    "reboot               Reboot the node\n",
    "ps                   Prints information about running threads.\n",
    "ping6                Ping via ICMPv6\n",
    "random_init          initializes the PRNG\n",
    "random_get           returns 32 bit of pseudo randomness\n",
    "nib                  Configure neighbor information base\n",
    "ifconfig             Configure network interfaces\n",
    "> ping6 2001:660:5307:3200::2\n",
    "ping6 2001:660:5307:3200::2\n",
    "12 bytes from 2001:660:5307:3200::2: icmp_seq=0 ttl=59 rssi=-46 dBm time=51.322 ms\n",
    "12 bytes from 2001:660:5307:3200::2: icmp_seq=1 ttl=59 rssi=-46 dBm time=56.959 ms\n",
    "12 bytes from 2001:660:5307:3200::2: icmp_seq=2 ttl=59 rssi=-46 dBm time=57.563 ms\n",
    "\n",
    "--- 2001:660:5307:3200::2 PING statistics ---\n",
    "3 packets transmitted, 3 packets received, 0% packet loss\n",
    "round-trip min/avg/max = 51.322/55.281/57.563 ms"
   ]
  },
  {
   "cell_type": "markdown",
   "metadata": {},
   "source": [
    "Now start the LwM2M client registration"
   ]
  },
  {
   "cell_type": "raw",
   "metadata": {},
   "source": [
    "> lwm2m help\n",
    "lwm2m help\n",
    "usage: lwm2m <start|mem>\n",
    "> lwm2m start\n",
    "lwm2m start"
   ]
  },
  {
   "cell_type": "markdown",
   "metadata": {},
   "source": [
    "Go to the IoT-LAB Leshan server interface and verify that your client have been registered. Select the client in the list and in the tab `Device` read `Manufacturer` and `Model Number` attributes. View in the Makefile how the device manufacturer is set up. \n",
    "\n",
    "You should also see that the object id of the device is `/3`. You can find more details with [LwM2M Object and Resource Registry](http://www.openmobilealliance.org/wp/OMNA/LwM2M/LwM2MRegistry.html)\n",
    "\n",
    "![LwM2M device](img/lwm2m_device.png \"LwM2M device\")\n",
    "\n",
    "\n",
    "\n",
    "### Add a temperature object\n",
    "\n",
    "1. Manage the initialization of the LPS331ap sensor\n",
    "\n",
    "* Add module driver into Makefile\n",
    "\n",
    "```mk\n",
    "USEMODULE += lps331ap\n",
    "```\n",
    "\n",
    "* Edit lwm2m_cli.c file and include the sensor drivers\n",
    "\n",
    "```c\n",
    "#include \"lpsxxx.h\"\n",
    "#include \"lpsxxx_params.h\"\n",
    "```\n",
    "\n",
    "* Add a sensor variable \n",
    "   \n",
    "```c\n",
    "static lpsxxx_t sensor;\n",
    "```\n",
    "    \n",
    "* Initialize the driver in the lwm2m_cli_cmd method\n",
    "\n",
    "```c\n",
    "if (lpsxxx_init(&sensor, &lpsxxx_params[0]) != LPSXXX_OK) {\n",
    "    puts(\"LPS331AP initialization failed\");\n",
    "    return 1;\n",
    "}\n",
    "lpsxxx_enable(&sensor);\n",
    "```\n",
    "\n",
    "2. Add a LwM2M temperature object\n",
    "\n",
    "* Include temperature object headers\n",
    "\n",
    "```c\n",
    "#include \"temperature_object.h\"\n",
    "```\n",
    "\n",
    "* Increment the number of LwM2M objects\n",
    "\n",
    "```c\n",
    "#define OBJ_COUNT (4)\n",
    "```\n",
    "\n",
    "* Declare an object instance\n",
    "\n",
    "```c\n",
    "lwm2m_temp_instance_t *temp_instance;\n",
    "```\n",
    "\n",
    "* Create temperature object in the lwm2m_cli_init method\n",
    "\n",
    "```c\n",
    "obj_list[3] = lwm2m_client_get_temperature_object();\n",
    "```\n",
    "\n",
    "* Get the instance in the lwm2m_cli_cmd method\n",
    "\n",
    "```c\n",
    "temp_instance = (lwm2m_temp_instance_t *)\n",
    "                 lwm2m_list_find(obj_list[3]->instanceList, 0);\n",
    "```\n",
    "\n",
    "4. Create temperature sensor reader thread\n",
    "\n",
    "The value of the sensor is read with a static interval.  \n",
    "\n",
    "* Define the reader interval\n",
    "\n",
    "```c\n",
    "#define TEMP_READ_INTERVAL (5)\n",
    "```\n",
    "\n",
    "* Define the thread priority and declare stack size\n",
    "\n",
    "```c\n",
    "#define TEMP_PRIO  (THREAD_PRIORITY_MAIN - 6)\n",
    "\n",
    "char thread_stack[THREAD_STACKSIZE_MAIN];\n",
    "```\n",
    "\n",
    "*  Create thread in lwm2m_cli_cmd method\n",
    "\n",
    "```c\n",
    "thread_create(thread_stack, sizeof(thread_stack),\n",
    "              TEMP_PRIO, 0,\n",
    "              _temp_read, NULL, \"temp_reader\");\n",
    "```\n",
    "\n",
    "* Add the read sensor method\n",
    "\n",
    "This method read sensor value, update the LwM2M object instance sensor value and notify observers that the value has changed.\n",
    "\n",
    "```c\n",
    "static void *_temp_read(void *arg)\n",
    "{\n",
    "    (void)arg;\n",
    "    int16_t temp;\n",
    "    lwm2m_uri_t uri;\n",
    "    uri.flag = LWM2M_URI_FLAG_OBJECT_ID | LWM2M_URI_FLAG_INSTANCE_ID |\n",
    "               LWM2M_URI_FLAG_RESOURCE_ID;\n",
    "    uri.objectId = LWM2M_TEMP_OBJECT_ID;\n",
    "    uri.instanceId = temp_instance->shortID;\n",
    "    uri.resourceId = LWM2M_TEMP_RES_SENSOR_VALUE;\n",
    "    while (1) {\n",
    "        lpsxxx_read_temp(&sensor, &temp);\n",
    "        temp_instance->sensor_value = temp / 100.0;\n",
    "        /* mark changed for observers */\n",
    "        lwm2m_resource_value_changed(client_data.lwm2m_ctx, &uri);\n",
    "        xtimer_sleep(TEMP_READ_INTERVAL);\n",
    "    }\n",
    "    return 0;\n",
    "}\n",
    "```\n",
    "\n",
    "Recompile and flash the LwM2M client firmware"
   ]
  },
  {
   "cell_type": "raw",
   "metadata": {},
   "source": [
    "make -C riot/networking/lwm2m SERVER_ADDR=2001:660:5307:3200::2 DEVICE_NAME=m3-<id> BOARD=iotlab-m3 DEFAULT_CHANNEL=<channel> DEFAULT_PAN_ID=<pan_id> IOTLAB_NODE=m3-<id>.<site>.iot-lab.info flash term"
   ]
  },
  {
   "cell_type": "markdown",
   "metadata": {},
   "source": [
    "Restart the LwM2M client registration"
   ]
  },
  {
   "cell_type": "raw",
   "metadata": {},
   "source": [
    "> lwm2m start\n",
    "lwm2m start"
   ]
  },
  {
   "cell_type": "markdown",
   "metadata": {},
   "source": [
    "Now on the Leshan server below the device object you can see a new temperature object with the id 3303.\n",
    "Read the `Sensor units` and `Sensor value`. After you should `Observe` the `Sensor value` and verify that the value is updated automatically each five seconds. Indeed the Leshan server is a CoAP observer of the sensor value resource and it will be notified by the LwM2M client in the read sensor method when the value has changed.\n",
    "\n",
    "![LwM2M temperature object](img/lwm2m_temperature.png \"LwM2M temperature object\")"
   ]
  },
  {
   "cell_type": "markdown",
   "metadata": {},
   "source": [
    "### Free up the resources\n",
    "\n",
    "Since you finished the training, stop your experiment to free up the experiment nodes:"
   ]
  },
  {
   "cell_type": "code",
   "execution_count": null,
   "metadata": {},
   "outputs": [],
   "source": [
    "!iotlab-experiment stop"
   ]
  },
  {
   "cell_type": "markdown",
   "metadata": {},
   "source": [
    "The serial link connection through SSH and the ethos process will be closed automatically"
   ]
  }
 ],
 "metadata": {
  "kernelspec": {
   "display_name": "Python 3",
   "language": "python",
   "name": "python3"
  },
  "language_info": {
   "codemirror_mode": {
    "name": "ipython",
    "version": 3
   },
   "file_extension": ".py",
   "mimetype": "text/x-python",
   "name": "python",
   "nbconvert_exporter": "python",
   "pygments_lexer": "ipython3",
   "version": "3.6.9"
  }
 },
 "nbformat": 4,
 "nbformat_minor": 4
}
