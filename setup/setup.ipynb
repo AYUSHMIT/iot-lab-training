{
 "cells": [
  {
   "cell_type": "markdown",
   "metadata": {},
   "source": [
    "## Welcome to the IoT-LAB testbed\n",
    "\n",
    "This notebook will guide you through the setup of an account on the testbed.\n",
    "\n",
    "### Create an account on the IoT-LAB testbed\n",
    "\n",
    "Fill the form available at https://www.iot-lab.info/testbed/signup\n",
    "\n",
    "Once completed, you will received an email containing an activation link and then receive your login credentials.  \n",
    "Your default password can be changed from the web portal on the [account page](https://www.iot-lab.info/testbed/account) (Password tab).\n",
    "\n",
    "### Setup your credentials for CLI tools\n",
    "\n",
    "IoT-LAB CLI tools makes requests to the REST API. All interactions with your experiments require to add your credentials to the request. To not specify it at each command execution, you will now setup your IoT-LAB account on the VM with the following command:\n",
    "\n",
    "1. Start a new JupyterLab Terminal (use `File > New > Terminal`)\n",
    "2. Run the following command, replacing \"login\" with your actual login on the testbed:"
   ]
  },
  {
   "cell_type": "raw",
   "metadata": {},
   "source": [
    "iotlab-auth -u <login>"
   ]
  },
  {
   "cell_type": "markdown",
   "metadata": {},
   "source": [
    "3. Verify the setup by executing the following cell, which prints the resources available on the Lyon site:"
   ]
  },
  {
   "cell_type": "code",
   "execution_count": null,
   "metadata": {},
   "outputs": [],
   "source": [
    "!iotlab-experiment info -li --site lyon"
   ]
  },
  {
   "cell_type": "markdown",
   "metadata": {},
   "source": [
    "### Setup your SSH key\n",
    "\n",
    "To be able to connect to an IoT-LAB site server, you need to add your SSH key to your user account.\n",
    "\n",
    "1. Generate a pair of SSH keys from the JupyterLab Terminal:"
   ]
  },
  {
   "cell_type": "raw",
   "metadata": {},
   "source": [
    "ssh-keygen -t rsa"
   ]
  },
  {
   "cell_type": "markdown",
   "metadata": {},
   "source": [
    "2. Get the SSH public key by running the following cell:"
   ]
  },
  {
   "cell_type": "code",
   "execution_count": null,
   "metadata": {},
   "outputs": [],
   "source": [
    "!cat ~/.ssh/id_rsa.pub"
   ]
  },
  {
   "cell_type": "markdown",
   "metadata": {},
   "source": [
    "3. Copy the output of the previous command as authorized SSH key for your account:  \n",
    "https://www.iot-lab.info/testbed/account (SSH Keys tab)\n",
    "\n",
    "4. Verify the setup by connecting to the Lyon's server site (replace `<login>` with yours) running the following command in the JupyterLab Terminal:"
   ]
  },
  {
   "cell_type": "raw",
   "metadata": {},
   "source": [
    "ssh <login>@lyon.iot-lab.info"
   ]
  }
 ],
 "metadata": {
  "kernelspec": {
   "display_name": "Python 3",
   "language": "python",
   "name": "python3"
  },
  "language_info": {
   "codemirror_mode": {
    "name": "ipython",
    "version": 3
   },
   "file_extension": ".py",
   "mimetype": "text/x-python",
   "name": "python",
   "nbconvert_exporter": "python",
   "pygments_lexer": "ipython3",
   "version": "3.6.9"
  }
 },
 "nbformat": 4,
 "nbformat_minor": 4
}
