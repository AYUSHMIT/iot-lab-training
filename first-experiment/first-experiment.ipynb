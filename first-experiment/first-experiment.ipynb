{
 "cells": [
  {
   "cell_type": "markdown",
   "metadata": {},
   "source": [
    "## Flash a prebuilt firmware on IoT-LAB\n",
    "\n",
    "In this exercise, you will:\n",
    "1. Submit and experiment on 1 M3 device of the IoT-LAB testbed\n",
    "2. Flash a precompiled firmware on the device\n",
    "3. Connect to the serial port of the device a read the output of the firmware\n",
    "    \n",
    "### Submit an experiment on the IoT-LAB testbed\n",
    "\n",
    "1. Open a JupyterLab terminal and run the following command:"
   ]
  },
  {
   "cell_type": "code",
   "execution_count": null,
   "metadata": {},
   "outputs": [],
   "source": [
    "!iotlab-experiment submit -n \"flash\" -d 20 -l 1,archi=m3:at86rf231+site=grenoble"
   ]
  },
  {
   "cell_type": "markdown",
   "metadata": {},
   "source": [
    "Note: If you have multiple running experiments, use the `-i` parameter with the experiment identifier returned by the previous command."
   ]
  },
  {
   "cell_type": "markdown",
   "metadata": {},
   "source": [
    "The `-l` option is used to specify resources needed. Here you specified resources by their characteristics, by specifying the number, the type of node (_archi_) and the site. It is  also possible to specify the firmware that will be flashed at starting. The syntax is: `<nb_of_nodes>,archi=<archi>+site=<site>[,<firmware_path>]`.\n",
    "\n",
    "There is a also second way to specify resources. Read the command help to have an overview of options, syntax and some examples."
   ]
  },
  {
   "cell_type": "code",
   "execution_count": null,
   "metadata": {},
   "outputs": [],
   "source": [
    "!iotlab-experiment submit -h"
   ]
  },
  {
   "cell_type": "markdown",
   "metadata": {},
   "source": [
    "2. Wait for the experiment to be in the Running state:"
   ]
  },
  {
   "cell_type": "code",
   "execution_count": null,
   "metadata": {},
   "outputs": [],
   "source": [
    "!iotlab-experiment wait"
   ]
  },
  {
   "cell_type": "markdown",
   "metadata": {},
   "source": [
    "3. Check the resources allocated to your experiment:"
   ]
  },
  {
   "cell_type": "code",
   "execution_count": null,
   "metadata": {},
   "outputs": [],
   "source": [
    "!iotlab-experiment get -r"
   ]
  },
  {
   "cell_type": "markdown",
   "metadata": {},
   "source": [
    "### Flash a precompiled firmware\n",
    "\n",
    "There is a precompiled located in this directory.\n",
    "\n",
    "Open a JupyterLab terminal and run the following command:"
   ]
  },
  {
   "cell_type": "code",
   "execution_count": null,
   "metadata": {},
   "outputs": [],
   "source": [
    "!iotlab-node --update firmware.elf"
   ]
  },
  {
   "cell_type": "markdown",
   "metadata": {},
   "source": [
    "### Open a serial console and read the output the firmware\n",
    "\n",
    "The serial port of the IoT-LAB M3 device is reachable via a TCP server on `m3-<id>.grenoble.iot-lab.info` on port 20000.\n",
    "\n",
    "To reach the serial port with a one line command, we can use a combination of the SSH and socat commands.\n",
    "\n",
    "Open a JupyterLab terminal and run the following command:\n"
   ]
  },
  {
   "cell_type": "code",
   "execution_count": null,
   "metadata": {},
   "outputs": [],
   "source": [
    "!ssh -t <login>@grenoble.iot-lab.info 'socat - tcp:m3-<id>.grenoble.iot-lab.info:20000'"
   ]
  },
  {
   "cell_type": "markdown",
   "metadata": {},
   "source": [
    "### Free up the resources\n",
    "\n",
    "Since you finished the training, stop your experiment to free up the experiment nodes:"
   ]
  },
  {
   "cell_type": "code",
   "execution_count": null,
   "metadata": {},
   "outputs": [],
   "source": [
    "!iotlab-experiment stop"
   ]
  },
  {
   "cell_type": "markdown",
   "metadata": {},
   "source": [
    "The serial link connection through SSH will be closed automatically."
   ]
  }
 ],
 "metadata": {
  "kernelspec": {
   "display_name": "Python 3",
   "language": "python",
   "name": "python3"
  },
  "language_info": {
   "codemirror_mode": {
    "name": "ipython",
    "version": 3
   },
   "file_extension": ".py",
   "mimetype": "text/x-python",
   "name": "python",
   "nbconvert_exporter": "python",
   "pygments_lexer": "ipython3",
   "version": "3.6.9"
  }
 },
 "nbformat": 4,
 "nbformat_minor": 4
}
