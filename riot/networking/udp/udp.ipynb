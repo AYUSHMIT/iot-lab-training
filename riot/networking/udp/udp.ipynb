{
 "cells": [
  {
   "cell_type": "markdown",
   "metadata": {},
   "source": [
    "## Discover UDP socket\n",
    "\n",
    "In this excercice we will use RIOT UDP sock API. This API provides a set of functions to establish connections or send and receive datagrams using UDP. For this purpose we implement two UDP applications using the Posix compliant API: one client will periodically send the \"Hello Server\" message, the server prints any messages received.\n",
    "\n",
    "The server listens on port 8888. The client sends its messages to the IPv6 link-local address of the server.\n",
    "\n"
   ]
  },
  {
   "cell_type": "markdown",
   "metadata": {},
   "source": [
    "#### Radio settings\n",
    "\n",
    "If you are running this training as the same time as other people, it is a good idea to change the default radio configuration to avoid too much collision with others.\n",
    "\n",
    "Use the following cell to give you random values for channel and PAN ID."
   ]
  },
  {
   "cell_type": "code",
   "execution_count": null,
   "metadata": {},
   "outputs": [],
   "source": [
    "import os,binascii,random\n",
    "pan_id = binascii.b2a_hex(os.urandom(2)).decode()\n",
    "channel = random.randint(11, 26)\n",
    "print('Use DEFAULT_CHANNEL={}, DEFAULT_PAN_ID={}'.format(channel, pan_id))"
   ]
  },
  {
   "cell_type": "markdown",
   "metadata": {},
   "source": [
    "For these values to be taken into account you can set an environment variable for the notebook. But BEWARE!, this is ONLY set in the notebook, if you change the default values for DEFAULT_CHANNEL and DEFAULT_PAN_ID you will also have to do it when running make command on Jupyter terminals."
   ]
  },
  {
   "cell_type": "code",
   "execution_count": null,
   "metadata": {},
   "outputs": [],
   "source": [
    "%env DEFAULT_CHANNEL=11"
   ]
  },
  {
   "cell_type": "code",
   "execution_count": null,
   "metadata": {},
   "outputs": [],
   "source": [
    "%env DEFAULT_PAN_ID=0xBEEF"
   ]
  },
  {
   "cell_type": "markdown",
   "metadata": {},
   "source": [
    "To set the DEFAULT_CHANNEL and DEFAULT_PAN_ID in Jupyter terminals just prefix make commands with DEFAULT_CHANNEL=11 DEFAULT_PAN_ID=0xBEEF"
   ]
  },
  {
   "cell_type": "raw",
   "metadata": {},
   "source": [
    "DEFAULT_CHANNEL=11 DEFAULT_PAN_ID=0xBEEF make ...."
   ]
  },
  {
   "cell_type": "markdown",
   "metadata": {},
   "source": [
    "You can also export it every time you open a Jupyter terminal (use `File > New > Terminal`):"
   ]
  },
  {
   "cell_type": "raw",
   "metadata": {},
   "source": [
    "export DEFAULT_CHANNEL=11 DEFAULT_PAN_ID=0xBEEF"
   ]
  },
  {
   "cell_type": "markdown",
   "metadata": {},
   "source": [
    "### Implement server application\n",
    "\n",
    "1. Go into the server application directory\n",
    "2. Add the posix sockets module dependency to the Makefile\n",
    "\n",
    "```mk\n",
    "USEMODULE += posix_sockets\n",
    "```\n",
    "\n",
    "3. In the main.c file, create the server socket\n",
    "\n",
    "```c\n",
    "    int server_socket = socket(AF_INET6, SOCK_DGRAM, IPPROTO_UDP);\n",
    "    if (server_socket < 0) {\n",
    "        puts(\"error initializing socket\");\n",
    "        server_socket = 0;\n",
    "        return 1;\n",
    "    }\n",
    "```\n",
    "\n",
    "4. Instanciate and configure the server address\n",
    "\n",
    "```c\n",
    "    struct sockaddr_in6 server_addr;\n",
    "    server_addr.sin6_family = AF_INET6;\n",
    "    memset(&server_addr.sin6_addr, 0, sizeof(server_addr.sin6_addr));\n",
    "    server_addr.sin6_port = htons(SERVER_PORT);\n",
    "```\n",
    "\n",
    "5. Bind the socket to the server address\n",
    "\n",
    "```c\n",
    "   if (bind(server_socket, (struct sockaddr *)&server_addr,\n",
    "            sizeof(server_addr)) < 0) {\n",
    "    server_socket = -1;\n",
    "    puts(\"error binding socket\");\n",
    "    return 1;\n",
    "    }\n",
    "```\n",
    "\n",
    "6. Start listening to incoming packets\n",
    "\n",
    "```c\n",
    "    int res;\n",
    "    struct sockaddr_in6 src;\n",
    "    socklen_t src_len = sizeof(struct sockaddr_in6);\n",
    "    if ((res = recvfrom(server_socket, server_buffer, sizeof(server_buffer), 0,\n",
    "                       (struct sockaddr *)&src, &src_len)) < 0) {\n",
    "        puts(\"Error on receive\");\n",
    "    }\n",
    "    else if (res == 0) {\n",
    "        puts(\"Peer did shut down\");\n",
    "    }\n",
    "    else {\n",
    "        printf(\"Message received: \");\n",
    "        puts(server_buffer);\n",
    "        sendto(server_socket, SERVER_MESSAGE, sizeof(SERVER_MESSAGE), 0,\n",
    "               (struct sockaddr *)&src, sizeof(src));\n",
    "    }\n",
    "```\n",
    "\n",
    "Compile and verify your application code with native target is then as simple as running the following command"
   ]
  },
  {
   "cell_type": "code",
   "execution_count": null,
   "metadata": {},
   "outputs": [],
   "source": [
    "!make -C server"
   ]
  },
  {
   "cell_type": "markdown",
   "metadata": {},
   "source": [
    "### Implement client application\n",
    "\n",
    "1. Go into the client application directory\n",
    "2. Add the posix sockets module dependency to the Makefile\n",
    "\n",
    "```mk\n",
    "USEMODULE += posix_sockets\n",
    "```\n",
    "\n",
    "3. In the main.c file, create the socket\n",
    "\n",
    "```c\n",
    "    int s = socket(AF_INET6, SOCK_DGRAM, IPPROTO_UDP);\n",
    "    if (s < 0) {\n",
    "        puts(\"error initializing socket\");\n",
    "        return 1;\n",
    "    }\n",
    "```\n",
    "\n",
    "4. Configure the destination address (based on SERVER_ADDR and SERVER_PORT macros)\n",
    "\n",
    "```c\n",
    "    /* configure the destination address */\n",
    "    struct sockaddr_in6 dst;\n",
    "    dst.sin6_family = AF_INET6;\n",
    "\n",
    "    /* parse destination address */\n",
    "    ipv6_addr_from_str((ipv6_addr_t *)&dst.sin6_addr, SERVER_ADDR);\n",
    "\n",
    "    /* parse port */\n",
    "    dst.sin6_port = htons(SERVER_PORT);\n",
    "```\n",
    "\n",
    "5. Sends packets to the server\n",
    "\n",
    "```c\n",
    "   sendto(s, CLIENT_MESSAGE, strlen(CLIENT_MESSAGE), 0,\n",
    "             (struct sockaddr *)&dst, sizeof(dst));\n",
    "```\n",
    "\n",
    "\n",
    "Compile and verify your application code with native target and the following command"
   ]
  },
  {
   "cell_type": "code",
   "execution_count": null,
   "metadata": {},
   "outputs": [],
   "source": [
    "!make -C client"
   ]
  },
  {
   "cell_type": "markdown",
   "metadata": {},
   "source": [
    "### Launch an experiment\n",
    "\n",
    "Choose your site (grenoble|lille|strasbourg):"
   ]
  },
  {
   "cell_type": "code",
   "execution_count": null,
   "metadata": {},
   "outputs": [],
   "source": [
    "%env SITE=grenoble"
   ]
  },
  {
   "cell_type": "markdown",
   "metadata": {},
   "source": [
    "1. Submit an experiment with two nodes"
   ]
  },
  {
   "cell_type": "code",
   "execution_count": null,
   "metadata": {},
   "outputs": [],
   "source": [
    "!iotlab-experiment submit -d 60 -l 2,archi=m3:at86rf231+site=$SITE"
   ]
  },
  {
   "cell_type": "markdown",
   "metadata": {},
   "source": [
    "2. Wait for the experiment to be in the Running state:"
   ]
  },
  {
   "cell_type": "code",
   "execution_count": null,
   "metadata": {},
   "outputs": [],
   "source": [
    "!iotlab-experiment wait"
   ]
  },
  {
   "cell_type": "markdown",
   "metadata": {},
   "source": [
    "3. Check the resources allocated to the experiment"
   ]
  },
  {
   "cell_type": "code",
   "execution_count": null,
   "metadata": {},
   "outputs": [],
   "source": [
    "!iotlab-experiment get -ni"
   ]
  },
  {
   "cell_type": "markdown",
   "metadata": {},
   "source": [
    "From here you will choose one node with the server role and the other one with client role. You need to open a terminal for the server\n",
    "\n",
    "4. For server node, open a Jupyter terminal (use `File > New > Terminal`) and run the command replacing `<id> <site>`with the right values"
   ]
  },
  {
   "cell_type": "raw",
   "metadata": {},
   "source": [
    "make -C riot/networking/udp/server BOARD=iotlab-m3 IOTLAB_NODE=<id>.<site>.iot-lab.info flash term\n",
    "Configured network interfaces:\n",
    "Iface  5  HWaddr: F2:9D:F4:58:14:D4\n",
    "        L2-PDU:1500 MTU:1500  HL:64  Source address length: 6\n",
    "        Link type: wired\n",
    "        inet6 addr: fe80::f09d:f4ff:fe58:14d4  scope: local  TNT[1]\n",
    "        inet6 group: ff02::1\n",
    "        inet6 group: ff02::1:ff58:14d4"
   ]
  },
  {
   "cell_type": "markdown",
   "metadata": {},
   "source": [
    "Here the link-local address of the server is **fe80::f09d:f4ff:fe58:14d4**. Keep the terminal open and the server application running.\n",
    "\n",
    "5. For client node, open a Jupyter terminal (use `File > New > Terminal`) and run the command replacing `<link-local-addr> <id> <site>' with the right value"
   ]
  },
  {
   "cell_type": "raw",
   "metadata": {},
   "source": [
    "make SERVER_ADDR=<link-local-addr> -C riot/networking/udp/client BOARD=iotlab-m3 IOTLAB_NODE=<id>.<site>.iot-lab.info flash"
   ]
  },
  {
   "cell_type": "markdown",
   "metadata": {},
   "source": [
    "On the server terminal, you should see the following messages:\n",
    "\n",
    "```mk\n",
    "Message received: Hello Server\n",
    "Message received: Hello Server\n",
    "Message received: Hello Server\n",
    "Message received: Hello Server\n",
    "Message received: Hello Server\n",
    "```"
   ]
  }
 ],
 "metadata": {
  "kernelspec": {
   "display_name": "Python 3",
   "language": "python",
   "name": "python3"
  },
  "language_info": {
   "codemirror_mode": {
    "name": "ipython",
    "version": 3
   },
   "file_extension": ".py",
   "mimetype": "text/x-python",
   "name": "python",
   "nbconvert_exporter": "python",
   "pygments_lexer": "ipython3",
   "version": "3.6.9"
  }
 },
 "nbformat": 4,
 "nbformat_minor": 4
}
