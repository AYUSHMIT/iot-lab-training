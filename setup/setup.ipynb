{
 "cells": [
  {
   "cell_type": "markdown",
   "metadata": {},
   "source": [
    "## Welcome to the IoT-LAB testbed\n",
    "\n",
    "This notebook will guide you through the setup of an account on the testbed.\n",
    "\n",
    "### Create an account on the IoT-LAB testbed\n",
    "\n",
    "Fill the form available at https://www.iot-lab.info/testbed/signup\n",
    "\n",
    "Once completed, you will received an email containing an activation link and then receive your login credentials.\n",
    "\n",
    "### Setup your credentials on the VM\n",
    "\n",
    "Using the IoT-LAB cli-tools, you will now setup your IoT-LAB account on the VM with the following command:\n",
    "\n",
    "1. Start a new terminal in JupyterLab\n",
    "2. Run the following command, replacing \"login\" with your actual login on the testbed:"
   ]
  },
  {
   "cell_type": "raw",
   "metadata": {},
   "source": [
    "iotlab-auth -u <login>"
   ]
  },
  {
   "cell_type": "markdown",
   "metadata": {},
   "source": [
    "### Setup your SSH key\n",
    "\n",
    "1. Login to the IoT-LAB testbed webportal: https://www.iot-lab.info/testbed/login\n",
    "2. Generate a pair of SSH keys with the following commands:"
   ]
  },
  {
   "cell_type": "raw",
   "metadata": {},
   "source": [
    "ssh-keygen -t rsa"
   ]
  },
  {
   "cell_type": "code",
   "execution_count": null,
   "metadata": {},
   "outputs": [],
   "source": [
    "!cat ~/.ssh/id_rsa.pub"
   ]
  },
  {
   "cell_type": "markdown",
   "metadata": {},
   "source": [
    "3. Add the public SSH key to your list of allowed SSH keys: https://www.iot-lab.info/testbed/account#list-sshkeys\n",
    "\n",
    "Just copy the output of the previous command."
   ]
  },
  {
   "cell_type": "markdown",
   "metadata": {},
   "source": [
    "### Verify your setup\n",
    "\n",
    "1. You can print the resources list available on the saclay site"
   ]
  },
  {
   "cell_type": "code",
   "execution_count": null,
   "metadata": {},
   "outputs": [],
   "source": [
    "!iotlab-experiment info -li --site saclay"
   ]
  },
  {
   "cell_type": "markdown",
   "metadata": {},
   "source": [
    "2. You can connect the an IoT-LAB site via SSH (replace \"login\" in the command):"
   ]
  },
  {
   "cell_type": "raw",
   "metadata": {},
   "source": [
    "ssh <login>@saclay.iot-lab.info"
   ]
  }
 ],
 "metadata": {
  "kernelspec": {
   "display_name": "Python 3",
   "language": "python",
   "name": "python3"
  },
  "language_info": {
   "codemirror_mode": {
    "name": "ipython",
    "version": 3
   },
   "file_extension": ".py",
   "mimetype": "text/x-python",
   "name": "python",
   "nbconvert_exporter": "python",
   "pygments_lexer": "ipython3",
   "version": "3.6.8"
  }
 },
 "nbformat": 4,
 "nbformat_minor": 4
}
