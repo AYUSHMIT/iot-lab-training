{
 "cells": [
  {
   "cell_type": "markdown",
   "metadata": {},
   "source": [
    "## Managing threads with RIOT\n",
    "\n",
    "In this exercise, you will manage threads, concurrency and inter-process communication (IPC) with RIOT.\n",
    "\n",
    "## Monitor running threads\n",
    "\n",
    "To monitor running threads, the application needs 1) to start a shell and 2) to extend the shell with commands for printing threads activity. In RIOT, this can be done by simply extending the provided template application as follows:\n",
    "\n",
    "### Load extra modules\n",
    "\n",
    "In the `Makefile` file, add the following:\n",
    "\n",
    "```mk\n",
    "USEMODULE += shell\n",
    "USEMODULE += shell_commands\n",
    "USEMODULE += ps\n",
    "```\n",
    "\n",
    "The `shell_commands` module will automatically build shell commands provided by other modules in the application. The `ps` module provides a shell command to monitor the threads activity.\n",
    "\n",
    "### Run the shell\n",
    "\n",
    "In `main.c` file, in the `main` function, just run the shell as follows (under the comment `/* Start the shell here */`:\n",
    "\n",
    "```c\n",
    "    char line_buf[SHELL_DEFAULT_BUFSIZE];\n",
    "    shell_run(NULL, line_buf, SHELL_DEFAULT_BUFSIZE);\n",
    "```\n",
    "\n"
   ]
  }
 ],
 "metadata": {
  "kernelspec": {
   "display_name": "Python 3",
   "language": "python",
   "name": "python3"
  },
  "language_info": {
   "codemirror_mode": {
    "name": "ipython",
    "version": 3
   },
   "file_extension": ".py",
   "mimetype": "text/x-python",
   "name": "python",
   "nbconvert_exporter": "python",
   "pygments_lexer": "ipython3",
   "version": "3.6.8"
  }
 },
 "nbformat": 4,
 "nbformat_minor": 4
}
