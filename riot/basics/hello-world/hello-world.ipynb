{
 "cells": [
  {
   "cell_type": "markdown",
   "metadata": {},
   "source": [
    "## First RIOT application\n",
    "\n",
    "In this exercise, you will build your first RIOT application and run it.\n",
    "\n",
    "- In a first step, the application will be built for the `native` target and run as a regular application.\n",
    "\n",
    "- In a second step, you will submit a new experiment on IoT-LAB with one iotlab-m3 node, then build and flash this application for this target."
   ]
  },
  {
   "cell_type": "markdown",
   "metadata": {},
   "source": [
    "### Build for native\n",
    "\n",
    "The Makefile of the RIOT application is the simplest possible:\n",
    "\n",
    "```mk\n",
    "# Name of the application\n",
    "APPLICATION = hello-world\n",
    "\n",
    "# Default target board\n",
    "BOARD ?= native\n",
    "\n",
    "USEMODULE += xtimer\n",
    "\n",
    "# Path to the RIOT base directory\n",
    "RIOTBASE ?= $(CURDIR)/../../RIOT\n",
    "\n",
    "# Include all build system logic for building the application\n",
    "include $(RIOTBASE)/Makefile.include\n",
    "```\n",
    "\n",
    "The `main.c` is also very simple and contain standard C code. We wait five seconds and write the message \"Hello from RIOT!\" on the serial port\n",
    "```c\n",
    "#include <stdio.h>\n",
    "\n",
    "int main(void)\n",
    "{\n",
    "    xtimer_sleep(5);\n",
    "    puts(\"Hello from RIOT!\");\n",
    "    return 0;\n",
    "}\n",
    "```\n",
    "\n",
    "Build the application and run it on native is then as simple as running the following command:\n"
   ]
  },
  {
   "cell_type": "code",
   "execution_count": null,
   "metadata": {},
   "outputs": [],
   "source": [
    "!make all term"
   ]
  },
  {
   "cell_type": "markdown",
   "metadata": {},
   "source": [
    "**Important:** once done interrupt the Jupyter kernel by clicking the ◼ button in the menu bar above."
   ]
  },
  {
   "cell_type": "markdown",
   "metadata": {},
   "source": [
    "### Build for an iotlab-m3\n",
    "\n",
    "Build the firmware for the `iotlab-m3` target, using the `BOARD` variable:"
   ]
  },
  {
   "cell_type": "code",
   "execution_count": null,
   "metadata": {},
   "outputs": [],
   "source": [
    "!make BOARD=iotlab-m3"
   ]
  },
  {
   "cell_type": "markdown",
   "metadata": {},
   "source": [
    "### Submit an experiment on IoT-LAB"
   ]
  },
  {
   "cell_type": "code",
   "execution_count": null,
   "metadata": {},
   "outputs": [],
   "source": [
    "!iotlab-experiment submit -n \"flash\" -d 20 -l 1,archi=m3:at86rf231+site=grenoble"
   ]
  },
  {
   "cell_type": "code",
   "execution_count": null,
   "metadata": {},
   "outputs": [],
   "source": [
    "!iotlab-experiment wait"
   ]
  },
  {
   "cell_type": "code",
   "execution_count": null,
   "metadata": {},
   "outputs": [],
   "source": [
    "!iotlab-experiment get -r"
   ]
  },
  {
   "cell_type": "markdown",
   "metadata": {},
   "source": [
    "### Open a terminal and flash the firmware on the iotlab-m3\n",
    "\n",
    "1. Open a Jupyter terminal (use `File > New > Terminal`) and run the following commands there. Replace ``<id>`` with the good node's id.\n",
    "\n",
    "```sh\n",
    "make BOARD=iotlab-m3 IOTLAB_NODE=m3-<id>.grenoble.iot-lab.info -C riot/basics/hello-world term\n",
    "```\n",
    "\n",
    "2. Using the `IOTLAB_NODE` variable with the M3 board associated to your experiment, you can flash and open a serial terminal to see the output:"
   ]
  },
  {
   "cell_type": "code",
   "execution_count": null,
   "metadata": {},
   "outputs": [],
   "source": [
    "!make BOARD=iotlab-m3 IOTLAB_NODE=m3-<id>.grenoble.iot-lab.info flash"
   ]
  },
  {
   "cell_type": "markdown",
   "metadata": {},
   "source": [
    "**Useful tip:** It can happen that the \"Hello from RIOT!\" message has already been displayed when you connect the terminal to the M3 serial port.\n",
    "In this case, you can reset the M3 with the following command:"
   ]
  },
  {
   "cell_type": "code",
   "execution_count": null,
   "metadata": {},
   "outputs": [],
   "source": [
    "!iotlab-node --reset"
   ]
  },
  {
   "cell_type": "markdown",
   "metadata": {},
   "source": [
    "### Free up the resources\n",
    "\n",
    "Since you finished the training, stop your experiment to free up the experiment nodes:"
   ]
  },
  {
   "cell_type": "code",
   "execution_count": null,
   "metadata": {},
   "outputs": [],
   "source": [
    "!iotlab-experiment stop"
   ]
  },
  {
   "cell_type": "markdown",
   "metadata": {},
   "source": [
    "The serial link connection through SSH will be closed automatically."
   ]
  },
  {
   "cell_type": "code",
   "execution_count": null,
   "metadata": {},
   "outputs": [],
   "source": []
  }
 ],
 "metadata": {
  "kernelspec": {
   "display_name": "Python 3",
   "language": "python",
   "name": "python3"
  },
  "language_info": {
   "codemirror_mode": {
    "name": "ipython",
    "version": 3
   },
   "file_extension": ".py",
   "mimetype": "text/x-python",
   "name": "python",
   "nbconvert_exporter": "python",
   "pygments_lexer": "ipython3",
   "version": "3.6.9"
  }
 },
 "nbformat": 4,
 "nbformat_minor": 4
}
