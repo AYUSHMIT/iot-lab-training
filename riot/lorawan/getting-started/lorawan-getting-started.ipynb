{
 "cells": [
  {
   "cell_type": "markdown",
   "metadata": {},
   "source": [
    "## Getting started with LoRaWAN on IoT-LAB using RIOT\n",
    "\n",
    "The goal of this notebook is to discover the basics of LoRaWAN communication using RIOT on IoT-LAB and TheThingsNetwork (TTN) as LoRaWAN network provider. This Notebook is divided in several steps:\n",
    "1. The first step requires you to configure a LoRaWAN application with one device on the TTN backend\n",
    "2. Then you will submit an experiment with one ST B-L072Z-LRWAN1 node (known as st-lrwan1) on the Saclay site\n",
    "3. Once the experiment is running, you will build and flash a RIOT application that provides a shell to control the LoRaWAN stack. On the board, you will configure the identifiers and keys required for Over-The-Air Activation (OTAA).\n",
    "4. In the last step of this tutorial, you will exchange messages between the board and TTN.\n",
    "\n",
    "### LoRaWAN overview\n",
    "\n",
    "LoRaWAN is a set of protocols built on top of the LoRa radio technology. It allows end devices to send messages on long distances and with potentially a very low power consumption.\n",
    "\n",
    "The LoRa technology uses a Chirp Spreading Spectrum frequency modulation within public radio frequency bands (ISM). The access to the physical layer is regulated and depends on the region of use. On IoT-LAB, the EU868 ISM band is used by the boards, because they are all located in Europe and the boards can only transmit on this band.\n",
    "\n",
    "<figure style=\"text-align:center\">\n",
    "    <img src=\"images/lorawan-classes.jpg\" width=\"640\" align=\"center\"/><br/><br/>\n",
    "    <figcaption><em>The LoRaWAN stack</em></figcaption>\n",
    "</figure>\n",
    "\n",
    "The LoRaWAN specifications define 3 classes of end-devices: A, B, C. Each of which has specific access to the physical layer. For more details, please refer to the LoRa specifications provided by the LoRa Alliance [here](https://www.lora-alliance.org/lorawan-for-developers).\n",
    "\n",
    "Here is a global overview of a LoRaWAN network:\n",
    "\n",
    "<figure style=\"text-align:center\">\n",
    "    <img src=\"images/lorawan-system.png\" width=\"640\" align=\"center\"/><br/><br/>\n",
    "    <figcaption><em>The LoRaWAN infrastructure</em></figcaption>\n",
    "</figure>\n",
    "\n",
    "End devices use LoRa modulation to communicate with the gateways, which themselves use the regular Internet protocols to communicate with the LoRaWAN server, owned by a provider.\n",
    "\n",
    "A TTN gateway is installed in the IoT-LAB Saclay site and connected to the TTN backend server. Thus, this allows LoRa devices deployed in the Saclay site to communicate with the TTN backend.\n",
    "\n",
    "### Configure a TTN application\n",
    "\n",
    "Before using the LoRa devices in IoT-LAB, you have to create an account and register an application with a device configured on TTN.\n",
    "\n",
    "1. If you don’t already have a TTN account, create one from [here](https://account.thethingsnetwork.org/register)\n",
    "\n",
    "<figure style=\"text-align:center\">\n",
    "    <img src=\"images/ttn-signup.png\" width=\"640\" align=\"center\"/><br/><br/>\n",
    "    <figcaption><em>TTN signup interface</em></figcaption>\n",
    "</figure>\n",
    "\n",
    "After submitting the account creation form, check your emails and then activate the account.\n",
    "\n",
    "2. Add an application to your TTN account by following [the official documentation](https://www.thethingsnetwork.org/docs/applications/add.html).\n",
    "\n",
    "3. Register a device in your TTN application by following [this documentation](https://www.thethingsnetwork.org/docs/devices/registration.html).\n",
    "   Keep the default Other-The-Air Activation (OTAA) procedure.The OTAA activation requires 3 informations:\n",
    "   - **Device EUI**: the device unique identifier is a 8 bytes array (16 hex char string)\n",
    "   - **Application EUI**: the application unique identifier is a 8 bytes array (16 hex char string)\n",
    "   - **Application Key**: the application key is a 16 bytes array (32 hex char string)\n",
    "\n",
    "**Important:** In the following instructions of this tutorial, we consider that your application name is **_iotlab-lorawan_** and your node id is **_iotlab-node_**. Replace these occurences with the information you configured in your TTN account.\n",
    "\n",
    "### Book and configure one LoRa device\n",
    "\n",
    "Now let's book one the LoRa device available in the IoT-LAB testbed. The boards are [ST B-L072Z-LRWAN1](https://www.st.com/en/evaluation-tools/b-l072z-lrwan1.html):\n",
    "\n",
    "<figure style=\"text-align:center\">\n",
    "    <img src=\"images/en.b-l072z-lrwan1.jpg\" width=\"320\" align=\"center\"/><br/><br/>\n",
    "    <figcaption><em>The ST B-L072Z-LRWAN1 board used in IoT-LAB</em></figcaption>\n",
    "</figure>\n",
    "\n",
    "1. Submit an experiment with one LoRa device on IoT-LAB:"
   ]
  },
  {
   "cell_type": "code",
   "execution_count": null,
   "metadata": {},
   "outputs": [],
   "source": [
    "!iotlab-experiment submit -n \"riot-ttn\" -d 60 -l 1,archi=st-lrwan1:sx1276+site=saclay"
   ]
  },
  {
   "cell_type": "code",
   "execution_count": null,
   "metadata": {},
   "outputs": [],
   "source": [
    "!iotlab-experiment wait --timeout 30 --cancel-on-timeout"
   ]
  },
  {
   "cell_type": "markdown",
   "metadata": {},
   "source": [
    "2. Build the `tests/pkg_semtech-loramac` application of RIOT.\n",
    "\n",
    "This application provides a shell to finely control the loramac stack on the device. By default, the target of the application corresponds to the `st-lrwan1` board type in IoT-LAB."
   ]
  },
  {
   "cell_type": "code",
   "execution_count": null,
   "metadata": {},
   "outputs": [],
   "source": [
    "!make -C ../../RIOT/tests/pkg_semtech-loramac"
   ]
  },
  {
   "cell_type": "markdown",
   "metadata": {},
   "source": [
    "3. Flash the RIOT firmware on the board:"
   ]
  },
  {
   "cell_type": "code",
   "execution_count": null,
   "metadata": {},
   "outputs": [],
   "source": [
    "!make IOTLAB_NODE=auto-ssh -C ../../RIOT/tests/pkg_semtech-loramac flash-only"
   ]
  },
  {
   "cell_type": "markdown",
   "metadata": {},
   "source": [
    "4. Open a terminal: `File > New > Terminal` and connect to the shell using the following command:\n",
    "\n",
    "```sh\n",
    "make IOTLAB_NODE=auto-ssh -C riot/RIOT/tests/pkg_semtech-loramac term\n",
    "```\n",
    "\n",
    "The shell provides the `loramac` command to control the loramac stack, join the network, and send packets:\n",
    "\n",
    "```\n",
    "> loramac\n",
    "loramac\n",
    "Usage: loramac <get|set|join|tx|link_check|save|erase>\n",
    "```\n",
    "\n",
    "5. In the RIOT shell, configure the loramac stack with the DEVEUI, APPEUI and APPKEY:\n",
    "\n",
    "```\n",
    "> loramac set deveui 00000000000000\n",
    "> loramac set appeui 00000000000000\n",
    "> loramac set appkey 0000000000000000000000000000\n",
    "```\n",
    "\n",
    "**note:** Use the values of your registered device in the TTN backend.\n",
    "\n",
    "You can also set a fast datarate, e.g. 5, corresponding to a bandwidth of 125kHz and a spreading factor of 7, since the nodes are very close to the gateway:\n",
    "\n",
    "```\n",
    "> loramac set dr 5\n",
    "```\n",
    "\n",
    "6. Now that the device is correctly configured for OTAA activation, it is time to join it to the network:\n",
    "\n",
    "```\n",
    "> loramac join otaa\n",
    "Join procedure succeeded!\n",
    "```\n",
    "\n",
    "On the TTN web console, go to the **Data** tab of the `iotlab-node` page. You should see the activation message received by the TTN backend (the item is clickable).\n",
    "\n",
    "7. Now use the `tx` subcommand to send a payload to the backend: \n",
    "\n",
    "```\n",
    "> loramac tx HelloWorld!\n",
    "TX done\n",
    "```\n",
    "\n",
    "Still in the **Data** tab of the `iotlab-node` web page, you should see the message received by the TTN backend.\n",
    "\n",
    "8. Send a downlink message from the **Overview** tab of the `iotlab-node` (for example use the following hexadecimal values: **48656C6C6F52494F5421**)\n",
    "\n",
    "**Note**: Nothing is received by the node because a LoRaWAN class A device (the default for a RIOT LoRaWAN node) only have a short RX window after a send.\n",
    "\n",
    "In order to receive the downlink message, just send another message to TTN: \n",
    "\n",
    "```\n",
    "loramac tx HelloWorld!\n",
    "Data received: HelloRIOT!, port: 1\n",
    "```\n",
    "\n",
    "You sent and received LoRaWAN messages using RIOT on IoT-LAB, congratulations !"
   ]
  },
  {
   "cell_type": "markdown",
   "metadata": {},
   "source": [
    "### Free up the resources\n",
    "\n",
    "Since you finished the training, stop your experiment to free up the experiment nodes:"
   ]
  },
  {
   "cell_type": "code",
   "execution_count": null,
   "metadata": {},
   "outputs": [],
   "source": [
    "!iotlab-experiment stop"
   ]
  },
  {
   "cell_type": "markdown",
   "metadata": {},
   "source": [
    "The serial link connection through SSH will be closed automatically."
   ]
  }
 ],
 "metadata": {
  "kernelspec": {
   "display_name": "Python 3",
   "language": "python",
   "name": "python3"
  },
  "language_info": {
   "codemirror_mode": {
    "name": "ipython",
    "version": 3
   },
   "file_extension": ".py",
   "mimetype": "text/x-python",
   "name": "python",
   "nbconvert_exporter": "python",
   "pygments_lexer": "ipython3",
   "version": "3.7.7"
  }
 },
 "nbformat": 4,
 "nbformat_minor": 4
}
