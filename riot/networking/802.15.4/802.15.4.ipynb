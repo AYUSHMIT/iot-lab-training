{
 "cells": [
  {
   "cell_type": "markdown",
   "metadata": {},
   "source": [
    "## Discover 802.15.4\n",
    "\n",
    "#### Radio settings\n",
    "\n",
    "If you are running this training at the same time as other people, it is a good idea to change the default radio configuration to avoid too much collision with others.\n",
    "\n",
    "Use the following cell to give you random values for channel and PAN ID."
   ]
  },
  {
   "cell_type": "code",
   "execution_count": null,
   "metadata": {},
   "outputs": [],
   "source": [
    "import os,binascii,random\n",
    "pan_id = binascii.b2a_hex(os.urandom(2)).decode()\n",
    "channel = random.randint(11, 26)\n",
    "print('Use DEFAULT_CHANNEL={}, DEFAULT_PAN_ID={}'.format(channel, pan_id))"
   ]
  },
  {
   "cell_type": "markdown",
   "metadata": {},
   "source": [
    "For these values to be taken into account you can set an environment variable for the notebook. But BEWARE!, this is ONLY set in the notebook, if you change the default values for DEFAULT_CHANNEL and DEFAULT_PAN_ID you will also have to do it when running make command on Jupyter terminals."
   ]
  },
  {
   "cell_type": "code",
   "execution_count": null,
   "metadata": {},
   "outputs": [],
   "source": [
    "%env DEFAULT_PAN_ID=0xBEEF"
   ]
  },
  {
   "cell_type": "code",
   "execution_count": null,
   "metadata": {},
   "outputs": [],
   "source": [
    "%env DEFAULT_CHANNEL=11"
   ]
  },
  {
   "cell_type": "markdown",
   "metadata": {},
   "source": [
    "To set the DEFAULT_CHANNEL and DEFAULT_PAN_ID in Jupyter terminals just prefix make commands with DEFAULT_CHANNEL=11 DEFAULT_PAN_ID=0xBEEF"
   ]
  },
  {
   "cell_type": "raw",
   "metadata": {},
   "source": [
    "DEFAULT_CHANNEL=11 DEFAULT_PAN_ID=0xBEEF make ...."
   ]
  },
  {
   "cell_type": "markdown",
   "metadata": {},
   "source": [
    "You can also export it every time you open a Jupyter terminal (use `File > New > Terminal`):"
   ]
  },
  {
   "cell_type": "code",
   "execution_count": null,
   "metadata": {},
   "outputs": [],
   "source": [
    "export DEFAULT_CHANNEL=11 DEFAULT_PAN_ID=0xBEEF"
   ]
  },
  {
   "cell_type": "markdown",
   "metadata": {},
   "source": [
    "### Compile the RIOT firmware\n",
    "\n",
    "Here you will use the `default` example from RIOT.\n",
    "\n",
    "Let's define a environment variable to shorten the command lines."
   ]
  },
  {
   "cell_type": "code",
   "execution_count": null,
   "metadata": {},
   "outputs": [],
   "source": [
    "%env APP_DIR = ../../RIOT/examples/default"
   ]
  },
  {
   "cell_type": "markdown",
   "metadata": {},
   "source": [
    "Compile the example:"
   ]
  },
  {
   "cell_type": "code",
   "execution_count": null,
   "metadata": {},
   "outputs": [],
   "source": [
    "!make -C $APP_DIR BOARD=iotlab-m3"
   ]
  },
  {
   "cell_type": "markdown",
   "metadata": {},
   "source": [
    "### Launch an experiment\n",
    "\n",
    "1. Choose your site (grenoble|lille|strasbourg|...):"
   ]
  },
  {
   "cell_type": "code",
   "execution_count": null,
   "metadata": {},
   "outputs": [],
   "source": [
    "%env SITE = lille"
   ]
  },
  {
   "cell_type": "markdown",
   "metadata": {},
   "source": [
    "2. Submit an experiment with two nodes and the compiled firware:"
   ]
  },
  {
   "cell_type": "code",
   "execution_count": null,
   "metadata": {},
   "outputs": [],
   "source": [
    "!iotlab-experiment submit -d 60 -l 3,archi=m3:at86rf231+site=$SITE,$APP_DIR/bin/iotlab-m3/default.elf"
   ]
  },
  {
   "cell_type": "markdown",
   "metadata": {},
   "source": [
    "2. Wait for the experiment to be in the Running state:"
   ]
  },
  {
   "cell_type": "code",
   "execution_count": null,
   "metadata": {},
   "outputs": [],
   "source": [
    "!iotlab-experiment wait"
   ]
  },
  {
   "cell_type": "markdown",
   "metadata": {},
   "source": [
    "3. Check the resources allocated to the experiment"
   ]
  },
  {
   "cell_type": "code",
   "execution_count": null,
   "metadata": {},
   "outputs": [],
   "source": [
    "!iotlab-experiment get -ni"
   ]
  },
  {
   "cell_type": "markdown",
   "metadata": {},
   "source": [
    "From here you will interact with the nodes. To this end, you need to connect to node's serial link.\n",
    "\n",
    "4. For each of the three nodes open a Jupyter terminal (use `File > New > Terminal`), use the following command replacing `<id>` and `<site>` with the right values:"
   ]
  },
  {
   "cell_type": "raw",
   "metadata": {},
   "source": [
    "make -C riot/RIOT/examples/default BOARD=iotlab-m3 IOTLAB_NODE=m3-<id>.<site>.iot-lab.info term"
   ]
  },
  {
   "cell_type": "markdown",
   "metadata": {},
   "source": [
    "### Send radio packets\n",
    "\n",
    "1. Get the network config for each node (interface and address):"
   ]
  },
  {
   "cell_type": "raw",
   "metadata": {},
   "source": [
    "> ifconfig"
   ]
  },
  {
   "cell_type": "markdown",
   "metadata": {},
   "source": [
    "```\n",
    "ifconfig\n",
    "Iface  4  HWaddr: 5C:22  Channel: 26  Page: 0  NID: 0x23\n",
    "          Long HWaddr: 15:11:6B:10:65:FC:5C:22 \n",
    "           TX-Power: 0dBm  State: IDLE  max. Retrans.: 3  CSMA Retries: 4 \n",
    "          AUTOACK  ACK_REQ  CSMA  L2-PDU:102 Source address length: 2\n",
    "```"
   ]
  },
  {
   "cell_type": "markdown",
   "metadata": {},
   "source": [
    "  Here the node's radio interface (`Iface`) is _4_ and its long hardware address (`Long HWaddr`) is _15:11:6B:10:65:FC:5C:22_.\n",
    "\n",
    "The `txtsnd` shell command of RIOT let's you send a radio packet \n",
    "  ```\n",
    "  usage: txtsnd <if> [<L2 addr>|bcast] <data>\n",
    "  ```\n",
    "  - `<if>` is the network interface to use\n",
    "  - `[<L2 addr>|bcast]` allows to specify a destination network address to send the packet in unicast or _bcast_ to send the packet in broadcast\n",
    "  - `<data>` is the text message that will be contained in the payload\n",
    "\n",
    "2. Send a packet from the first node in broadcast, specifying the radio interface of the sender and the broadcast mode:"
   ]
  },
  {
   "cell_type": "raw",
   "metadata": {},
   "source": [
    "> txtsnd 4 bcast hello"
   ]
  },
  {
   "cell_type": "markdown",
   "metadata": {},
   "source": [
    "On the two other nodes terminals you should see that the radio packet has been received:\n",
    "```\n",
    "PKTDUMP: data received:\n",
    "~~ SNIP  0 - size:   5 byte, type: NETTYPE_UNDEF (0)\n",
    "00000000  68  65  6C  6C  6F\n",
    "~~ SNIP  1 - size:  12 byte, type: NETTYPE_NETIF (-1)\n",
    "if_pid: 4  rssi: -55  lqi: 255\n",
    "flags: BROADCAST \n",
    "src_l2addr: 5C:22\n",
    "dst_l2addr: FF:FF\n",
    "~~ PKT    -  2 snips, total size:  17 byte\n",
    "```\n",
    "What does this output tell you ?\n",
    "- SNIP 0 = payload = 5 bytes `68  65  6C  6C  6F` for 5 characters h•e•l•l•o\n",
    "- SNIP 1 = header ?\n",
    "  - `if_pid: 4  rssi: -55  lqi: 255` explanations\n",
    "  - `src_l2addr: 5C:22` gives the address of the sender\n",
    "  - `dst12_addr: FF:FF` is the broadcast destination address, which corresponds well to the `flags: BROADCAST`\n"
   ]
  },
  {
   "cell_type": "markdown",
   "metadata": {},
   "source": [
    "3. Send now a packet from the first node to the second, specifying the radio interface of the sender and the address of the destination:"
   ]
  },
  {
   "cell_type": "raw",
   "metadata": {},
   "source": [
    "> txtsnd 4 15:11:6B:10:65:FC:22:4A hello"
   ]
  },
  {
   "cell_type": "markdown",
   "metadata": {},
   "source": [
    "You should have a similar output in the destination node's terminal:\n",
    "```\n",
    "PKTDUMP: data received:\n",
    "~~ SNIP  0 - size:   5 byte, type: NETTYPE_UNDEF (0)\n",
    "00000000  68  65  6C  6C  6F\n",
    "~~ SNIP  1 - size:  12 byte, type: NETTYPE_NETIF (-1)\n",
    "if_pid: 4  rssi: -55  lqi: 255\n",
    "flags: 0x0\n",
    "src_l2addr: 5C:22\n",
    "dst_l2addr: 22:4A\n",
    "~~ PKT    -  2 snips, total size:  17 byte\n",
    "```\n",
    "\n",
    "- SNIP 0 remains the same since you send the same text message\n",
    "- SNIP 1 contains the destination address, which correspond well to the node's address whom print this output"
   ]
  },
  {
   "cell_type": "markdown",
   "metadata": {},
   "source": [
    "### Radio isolation\n",
    "\n",
    "1. Replace `<id>`by the right value and run the following cell to recompile the example and flash the third node of your experiment:"
   ]
  },
  {
   "cell_type": "code",
   "execution_count": null,
   "metadata": {},
   "outputs": [],
   "source": [
    "!make -C $APP_DIR BOARD=iotlab-m3 DEFAULT_CHANNEL=23 IOTLAB_NODE=m3-<id>.$SITE.iot-lab.info flash"
   ]
  },
  {
   "cell_type": "markdown",
   "metadata": {},
   "source": [
    "2. Send a new broadcast message from the first node\n",
    "\n",
    "This time, your third node has not received the packet, since its firmware is using the radio channel _23_ and is no more able to communicate with nodes using a different one.\n",
    "\n",
    "3. Call the `ifconfig` command in each terminal to see channel used by each node.\n",
    "\n",
    "### Free up the resources\n",
    "\n",
    "Since you finished the training, stop your experiment to free up the experiment nodes:"
   ]
  },
  {
   "cell_type": "code",
   "execution_count": null,
   "metadata": {},
   "outputs": [],
   "source": [
    "!iotlab-experiment stop"
   ]
  },
  {
   "cell_type": "markdown",
   "metadata": {},
   "source": [
    "The serial link connection through SSH will be closed automatically."
   ]
  }
 ],
 "metadata": {
  "kernelspec": {
   "display_name": "Python 3",
   "language": "python",
   "name": "python3"
  },
  "language_info": {
   "codemirror_mode": {
    "name": "ipython",
    "version": 3
   },
   "file_extension": ".py",
   "mimetype": "text/x-python",
   "name": "python",
   "nbconvert_exporter": "python",
   "pygments_lexer": "ipython3",
   "version": "3.6.9"
  }
 },
 "nbformat": 4,
 "nbformat_minor": 4
}
