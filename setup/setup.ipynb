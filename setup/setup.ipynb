{
 "cells": [
  {
   "cell_type": "markdown",
   "metadata": {},
   "source": [
    "## Training setup\n",
    "\n",
    "### Setup your credentials\n",
    "\n",
    "IoT-LAB CLI tools used in Jupyter notebooks request a REST API to interact with your experiments on the testbed. All requests require your IoT-LAB credentials, so to avoid having to specify them each time, you have to setup your IoT-LAB account on the VM:\n",
    "\n",
    "1. Start a new JupyterLab Terminal (use `File > New > Terminal`)\n",
    "2. Run the following command, replacing \"login\" with your actual login on the testbed:"
   ]
  },
  {
   "cell_type": "raw",
   "metadata": {},
   "source": [
    "iotlab-auth -u $IOTLAB_USER_NAME"
   ]
  },
  {
   "cell_type": "markdown",
   "metadata": {},
   "source": [
    "3. Verify the setup by executing the following cell, which prints the resources available on the Lyon site:"
   ]
  },
  {
   "cell_type": "code",
   "execution_count": null,
   "metadata": {},
   "outputs": [],
   "source": [
    "!iotlab-status --nodes --site lyon"
   ]
  },
  {
   "cell_type": "markdown",
   "metadata": {},
   "source": [
    "### Setup your SSH key\n",
    "\n",
    "To be able to connect to an IoT-LAB site server, you have to add your SSH key to your user account.\n",
    "\n",
    "1. Generate a pair of SSH keys from the JupyterLab Terminal:"
   ]
  },
  {
   "cell_type": "raw",
   "metadata": {},
   "source": [
    "ssh-keygen -t rsa"
   ]
  },
  {
   "cell_type": "markdown",
   "metadata": {},
   "source": [
    "2. Get the SSH public key by running the following cell:"
   ]
  },
  {
   "cell_type": "code",
   "execution_count": null,
   "metadata": {},
   "outputs": [],
   "source": [
    "!cat ~/.ssh/id_rsa.pub"
   ]
  },
  {
   "cell_type": "markdown",
   "metadata": {},
   "source": [
    "3. Copy the output of the previous command and add it as authorized SSH key for your account:  \n",
    "https://www.iot-lab.info/testbed/account (SSH Keys tab)\n",
    "\n",
    "4. Verify the setup by connecting to the Lyon's server site (replace `<login>` with yours) running the following command in the JupyterLab Terminal:"
   ]
  },
  {
   "cell_type": "raw",
   "metadata": {},
   "source": [
    "ssh $IOTLAB_USER_NAME@lyon.iot-lab.info"
   ]
  }
 ],
 "metadata": {
  "kernelspec": {
   "display_name": "Python 3",
   "language": "python",
   "name": "python3"
  },
  "language_info": {
   "codemirror_mode": {
    "name": "ipython",
    "version": 3
   },
   "file_extension": ".py",
   "mimetype": "text/x-python",
   "name": "python",
   "nbconvert_exporter": "python",
   "pygments_lexer": "ipython3",
   "version": "3.6.9"
  }
 },
 "nbformat": 4,
 "nbformat_minor": 4
}
