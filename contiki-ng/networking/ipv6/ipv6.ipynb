{
 "cells": [
  {
   "cell_type": "markdown",
   "metadata": {},
   "source": [
    "## Discover IPv6 and 6LoWPAN\n",
    "\n",
    "In this excercice you will learn how you should communicate with IPV6 and wireless low power devices. The 6LoWPAN protocol has been developed to define the IPv6 adaptation and the way the IP datagrams will be transported over the IEEE802.15.4 radio links. You will deploy a private IPv6 network and test the connectivity between nodes. Moreover you will setup a public IPv6 network with a border router and verify that you can communicate with public servers. Finally with the monitoring feature you will configure a radio sniffer and analyse the traffic. With wireshark, a network protocol analyzer, you will inspect the packets from the different protocols layers with headers and payloads.\n",
    "\n",
    "### IPv6 overview\n",
    "\n",
    "Before going into the explanations of network configuration on the nodes, it is essential to have some notions about IPv6. Unlike an IPv4 address which is coded on 32 bits (ie 4 bytes) and uses a decimal notation (for example: 192.168.6.19), an IPv6 address is represented by a series of 128 bits (16 bytes), and is represented with a hexadecimal notation. For example, a public IPv6 address (so-called \"global\" unicast address, that is to say routable) on IoT-LAB Grenoble site can have the full representation:\n",
    "\n",
    "`2001:0660:5307:30ff:0000:0000:0000:0001` can be shortened to `2001:660:5307:30ff::1` (a series of 0 contiguous is replaced only once by ::)\n",
    "\n",
    "This 128-bit series is often divided into 2 parts:\n",
    "\n",
    "* the least significant 64 bits correspond to the address of the host, `::1` in the previous example. Generally, they are constructed from the MAC address of the host to guarantee the uniqueness of an IPv6 address in a subnet (since the physical address isrmally);\n",
    "\n",
    "* the most significant 64 bits correspond to the network address, `2001:660:5307:30ff::/64` in the previous example. They contain in particular the \"prefix\" used for routing IPv6 packets and use, as in IPv4, the CIDR notation: <prefix> / <bit length>. This 64-bit block is divided into a first part containing up to 48 bits and designating the \"site prefix\",  (`2001:660:5307`) the rest of the bits identifying the subnet (`30ff`). A prefix always contains 64 bits.\n",
    "\n",
    "Some prefixes are reserved for very specific uses:\n",
    "\n",
    "* `fe80::/10` is used for unicast addresses called \"link-local\". This type of address only allows 2 network nodes to communicate if they share a direct physical link. This was the case with two nodes with wireless interface (802.15.4),\n",
    "\n",
    "* `fd00::/8` is intended for \"Unique Local Address\" addresses. These addresses correspond to private addresses in IPv4 and are not routable.\n"
   ]
  },
  {
   "cell_type": "markdown",
   "metadata": {},
   "source": [
    "### Launch an experiment\n",
    "\n",
    "1. Choose your site (grenoble|lille|saclay|strasbourg|...):"
   ]
  },
  {
   "cell_type": "code",
   "execution_count": 6,
   "metadata": {},
   "outputs": [
    {
     "name": "stdout",
     "output_type": "stream",
     "text": [
      "env: SITE=grenoble\n"
     ]
    }
   ],
   "source": [
    "%env SITE = grenoble"
   ]
  },
  {
   "cell_type": "code",
   "execution_count": 27,
   "metadata": {},
   "outputs": [
    {
     "name": "stdout",
     "output_type": "stream",
     "text": [
      "{\n",
      "    \"id\": 193154\n",
      "}\n"
     ]
    }
   ],
   "source": [
    "!iotlab-experiment submit -d 120 -l 2,archi=m3:at86rf231+site=$SITE"
   ]
  },
  {
   "cell_type": "markdown",
   "metadata": {},
   "source": [
    "2. Wait for the experiment to be in the Running state:"
   ]
  },
  {
   "cell_type": "code",
   "execution_count": 28,
   "metadata": {},
   "outputs": [
    {
     "name": "stdout",
     "output_type": "stream",
     "text": [
      "Waiting that experiment 193154 gets in state Running\n",
      "\"Running\"\n"
     ]
    }
   ],
   "source": [
    "!iotlab-experiment wait"
   ]
  },
  {
   "cell_type": "markdown",
   "metadata": {},
   "source": [
    "3. Check the resources allocated to the experiment"
   ]
  },
  {
   "cell_type": "code",
   "execution_count": 1,
   "metadata": {},
   "outputs": [
    {
     "name": "stdout",
     "output_type": "stream",
     "text": [
      "{\n",
      "    \"items\": [\n",
      "        {\n",
      "            \"grenoble\": {\n",
      "                \"m3\": \"100-101\"\n",
      "            }\n",
      "        }\n",
      "    ]\n",
      "}\n"
     ]
    }
   ],
   "source": [
    "!iotlab-experiment get -ri"
   ]
  },
  {
   "cell_type": "markdown",
   "metadata": {},
   "source": [
    "### Communication between two nodes\n",
    "\n",
    "With the Contiki-NG ``hello world`` example and shell enabled you can use the ping6 command and test the IPv6 connectivity between two nodes\n",
    "\n",
    "Let's define an environment variable to use the IoT-LAB Contiki-NG port and compile the example\n"
   ]
  },
  {
   "cell_type": "code",
   "execution_count": 2,
   "metadata": {},
   "outputs": [
    {
     "name": "stdout",
     "output_type": "stream",
     "text": [
      "env: ARCH_PATH=../../../iot-lab-contiki-ng/arch\n"
     ]
    }
   ],
   "source": [
    "%env ARCH_PATH=../../../iot-lab-contiki-ng/arch"
   ]
  },
  {
   "cell_type": "code",
   "execution_count": 3,
   "metadata": {},
   "outputs": [
    {
     "name": "stdout",
     "output_type": "stream",
     "text": [
      "make: Entering directory '/home/user/iot-lab-training/contiki-ng/networking/ipv6/hello-world'\n",
      "  CP        build/iotlab/m3/hello-world.iotlab --> hello-world.iotlab\n",
      "make: Leaving directory '/home/user/iot-lab-training/contiki-ng/networking/ipv6/hello-world'\n"
     ]
    }
   ],
   "source": [
    "!TARGET=iotlab BOARD=m3 make -C hello-world"
   ]
  },
  {
   "cell_type": "markdown",
   "metadata": {},
   "source": [
    "The binary firmware ``hello-world.iotlab`` is available in the ``hello-world`` directory.\n",
    "\n",
    "You can flash it on the two nodes with the following command"
   ]
  },
  {
   "cell_type": "code",
   "execution_count": 26,
   "metadata": {},
   "outputs": [
    {
     "name": "stdout",
     "output_type": "stream",
     "text": [
      "Killed\n"
     ]
    }
   ],
   "source": [
    "!iotlab-node --update hello-world/hello-world.iotlab"
   ]
  },
  {
   "cell_type": "markdown",
   "metadata": {},
   "source": [
    "At this stage use `File > New > Terminal` two times, one for each node, and connect to the IoT-LAB SSH frontend to have access of the node's serial link. \n",
    "On the first shell choose one node and connect to the serial port with ``nc`` command on the port 20000. Next print the shell usage with the ``help`` command and use ``ip-addr`` command to show IPV6 \"link-local\" address."
   ]
  },
  {
   "cell_type": "raw",
   "metadata": {},
   "source": [
    "ssh <pseudo-iotlab>@grenoble.iot-lab.info\n",
    "<pseudo-iotlab>@grenoble:~$ nc m3-<id1> 20000\n",
    "help\n",
    "Available commands:\n",
    "'> help': Shows this help\n",
    "'> reboot': Reboot the board by watchdog_reboot()\n",
    "'> log module level': Sets log level (0--4) for a given module (or \"all\"). For module \"mac\", level 4 also enables per-slot logging.\n",
    "'> mac-addr': Shows the node's MAC address\n",
    "'> ip-addr': Shows all IPv6 addresses\n",
    "'> ip-nbr': Shows all IPv6 neighbors\n",
    "'> ping addr': Pings the IPv6 address 'addr'\n",
    "'> routes': Shows the route entries\n",
    "'> rpl-set-root 0/1 [prefix]': Sets node as root (1) or not (0). A /64 prefix can be optionally specified.\n",
    "'> rpl-local-repair': Triggers a RPL local repair\n",
    "'> rpl-refresh-routes': Refreshes all routes through a DTSN increment\n",
    "'> rpl-status': Shows a summary of the current RPL state\n",
    "'> rpl-nbr': Shows the RPL neighbor table\n",
    "'> rpl-global-repair': Triggers a RPL global repair\n",
    "ip-addr\n",
    "Node IPv6 addresses:\n",
    "-- fe80::9181"
   ]
  },
  {
   "cell_type": "markdown",
   "metadata": {},
   "source": [
    "On the other node try to ping the IPv6 address and test the connectivity. You can note that we used the IPv6 \"link-local\" address of the node. We don't have a global IPV6 address and we can only communicate because the two nodes are in the same radio neighborhood with the same physical link (802.15.4 and channel 26)"
   ]
  },
  {
   "cell_type": "raw",
   "metadata": {},
   "source": [
    "ssh <pseudo-iotlab>@grenoble.iot-lab.info\n",
    "<pseudo-iotlab>@grenoble:~$ nc m3-<id2> 20000\n",
    "Pinging fe80::9181\n",
    "Received ping reply from fe80::9181, len 4, ttl 64, delay 10 ms"
   ]
  },
  {
   "cell_type": "markdown",
   "metadata": {},
   "source": [
    "### Communication via a Border Router (BR)\n",
    "\n",
    "In order for a node to communicate in IPv6 with a host on the Internet, it needs a “global” unicast address. To do this, a Border Router node  must be added to the network, which will be responsible for propagating the IPv6 global prefix to the other nodes. We speak here of border router, because it is on the border between an 802.15.4 network and a classic Ethernet network. For this choose one node of your experiment which takes the role of BR. \n",
    "\n",
    "1. Compile and flash border router firmware"
   ]
  },
  {
   "cell_type": "code",
   "execution_count": 3,
   "metadata": {},
   "outputs": [
    {
     "name": "stdout",
     "output_type": "stream",
     "text": [
      "make: Entering directory '/home/user/iot-lab-training/contiki-ng/networking/ipv6/hello-world'\n",
      "  CP        build/iotlab/m3/hello-world.iotlab --> hello-world.iotlab\n",
      "make: Leaving directory '/home/user/iot-lab-training/contiki-ng/networking/ipv6/hello-world'\n"
     ]
    }
   ],
   "source": [
    "!TARGET=iotlab BOARD=m3 make -C rpl-border-router"
   ]
  },
  {
   "cell_type": "markdown",
   "metadata": {},
   "source": [
    "Choose one node which play the role of BR and flash the firmware only on this node as below"
   ]
  },
  {
   "cell_type": "code",
   "execution_count": 26,
   "metadata": {},
   "outputs": [
    {
     "name": "stdout",
     "output_type": "stream",
     "text": [
      "Killed\n"
     ]
    }
   ],
   "source": [
    "!iotlab-node --update rpl-border-router/border-router.iotlab -l grenoble,m3,<id1>"
   ]
  },
  {
   "cell_type": "markdown",
   "metadata": {},
   "source": [
    "use `File > New > Terminal` and connect to the IoT-LAB SSH frontend to have access of the BR node's serial link."
   ]
  },
  {
   "cell_type": "raw",
   "metadata": {},
   "source": [
    "ssh <pseudo-iotlab>@grenoble.iot-lab.info\n",
    "<pseudo-iotlab>@grenoble:~$ "
   ]
  },
  {
   "cell_type": "markdown",
   "metadata": {},
   "source": [
    "We need to create a network interface and choose a public IPv6 prefix available on the frontend. As it's a shared environment you must check before.\n",
    "On Grenoble site you have 128 IPv6 public prefix available:\n",
    "\n",
    "<code>2001:660:5307:3100 -> 2001:660:5307:317f</code>\n",
    "\n",
    "* Visualize which prefix are already used"
   ]
  },
  {
   "cell_type": "raw",
   "metadata": {},
   "source": [
    "<pseudo-iotlab>@grenoble:~$ ip -6 route\n",
    "2001:660:5307:3100::/64 dev tun0  proto kernel  metric 256  mtu 1500 advmss 1440 hoplimit 4294967295"
   ]
  },
  {
   "cell_type": "markdown",
   "metadata": {},
   "source": [
    "Launch the following command with IPv6 prefix and the good node's id for the border router:"
   ]
  },
  {
   "cell_type": "raw",
   "metadata": {},
   "source": [
    "<pseudo-iotlab>@grenoble:~$ sudo tunslip6.py -v2 -L -a m3-<id1> -p 20000 2001:660:5307:3100::1/64\n",
    "Switch from 'root' to '<pseudo-iotlab>'\n",
    "Calling tunslip:\n",
    "\t'tunslip6 [u'-v2', '-a', 'm3-100', '-L', '-p', '20000', '2001:660:5307:3100::1/64']'\n",
    "slip connected to ``172.16.10.100:20000''\n",
    "\n",
    "17:38:27 opened tun device ``/dev/tun0''\n",
    "0000.001 ifconfig tun0 inet `hostname` mtu 1500 up\n",
    "0000.009 ifconfig tun0 add 2001:660:5307:3100::1/64\n",
    "0000.013 ifconfig tun0 add fe80::660:5307:3100:1/64\n",
    "0000.017 ifconfig tun0\n",
    "\n",
    "tun0: flags=4305<UP,POINTOPOINT,RUNNING,NOARP,MULTICAST>  mtu 1500\n",
    "        inet 192.168.1.5  netmask 255.255.255.255  destination 192.168.1.5\n",
    "        inet6 fe80::20fe:cf3b:331a:7fc6  prefixlen 64  scopeid 0x20<link>\n",
    "        inet6 fe80::660:5307:3100:1  prefixlen 64  scopeid 0x20<link>\n",
    "        inet6 2001:660:5307:3100::1  prefixlen 64  scopeid 0x0<global>\n",
    "        unspec 00-00-00-00-00-00-00-00-00-00-00-00-00-00-00-00  txqueuelen 500  (UNSPEC)\n",
    "        RX packets 0  bytes 0 (0.0 B)\n",
    "        RX errors 0  dropped 0  overruns 0  frame 0\n",
    "        TX packets 0  bytes 0 (0.0 B)\n",
    "        TX errors 0  dropped 0 overruns 0  carrier 0  collisions 0\n",
    "\n",
    "0000.777 [INFO: BR        ] Waiting for prefix\n",
    "0000.777 *** Address:2001:660:5307:3100::1 => 2001:0660:5307:3100\n",
    "0001.816 [INFO: BR        ] Waiting for prefix\n",
    "0001.816 [INFO: BR        ] Server IPv6 addresses:\n",
    "0001.816 [INFO: BR        ]   2001:660:5307:3100::b080\n",
    "0001.816 [INFO: BR        ]   fe80::b080\n"
   ]
  },
  {
   "cell_type": "markdown",
   "metadata": {},
   "source": [
    "This runs the program tunslip6, which bridges the Contiki-NG border router node to the SSH frontend server via a tun interface. Tunslip uses SLIP (Serial Line Internet Protocol) to encapsulate and pass IP traffic to and from the other side of the serial line. The RPL border router, running on the node, has an auto-configured address which you can find out from the above logs. Your host is assigned address ``2001:660:5307:3100::b080``.\n",
    "\n",
    "To access nodes inside the RPL network, we first need to find out their global IPv6 address. To help with this, the RPL border router runs an HTTP server. You can request it:"
   ]
  },
  {
   "cell_type": "raw",
   "metadata": {},
   "source": [
    "<pseudo-iotlab>@grenoble:~$ lynx -dump http://[2001:660:5307:3100::b080]\n",
    "   Neighbors\n",
    "     * fe80::9181\n",
    "\n",
    "   Routing links\n",
    "     * 2001:660:5307:3100::9181 (parent: 2001:660:5307:3100::b080) 1020s\n"
   ]
  },
  {
   "cell_type": "markdown",
   "metadata": {},
   "source": [
    "The page contains a list of routes with the addresses of all nodes in the network.\n",
    "\n",
    "You can also check that on the other node shell with the `ip-addr` command you visualize the global ipv6 address in addition to the ``link-local`` address"
   ]
  },
  {
   "cell_type": "raw",
   "metadata": {},
   "source": [
    "ip-addr\n",
    "Node IPv6 addresses:\n",
    "-- 2001:660:5307:3100::9181\n",
    "-- fe80::9181"
   ]
  },
  {
   "cell_type": "markdown",
   "metadata": {},
   "source": [
    "The BR node starts advertising the network via RPL DIO (DODAG Information Object) messages. Nodes that receive a DIO message will join the RPL network. Nodes can also search for available networks by sending periodic DIS (DODAG Information Solicitation) messages. You can find more informations about RPL implementation in the [Contiki-NG documentation](https://github.com/contiki-ng/contiki-ng/wiki/Documentation:-RPL)\n",
    "\n",
    "The last step is to test the IPv6 connectivity with global internet and the node. Try to ping a public Google server"
   ]
  },
  {
   "cell_type": "raw",
   "metadata": {},
   "source": [
    "ping 2a00:1450:4007:808::2003\n",
    "Pinging 2a00:1450:4007:808::2003\n",
    "Received ping reply from 2a00:1450:4007:808::2003, len 4, ttl 50, delay 100 ms\n"
   ]
  },
  {
   "cell_type": "markdown",
   "metadata": {},
   "source": [
    "### Radio sniffer\n",
    "\n",
    "One of the key feature of IoT-LAB is providing automatic monitoring on energy consumption and radio activity, thanks to a Control Node, associated to the experiment node. You do not have to bring a firmware for this Control Node, but just specify its configuration through what we called a 'profile'. Each user can manage his collection of profiles. Here you will create one.\n",
    "\n",
    "Create a sniffer profile on the default Contiki-NG radio channel"
   ]
  },
  {
   "cell_type": "markdown",
   "metadata": {},
   "source": [
    "use `File > New > Terminal` and launch the command"
   ]
  },
  {
   "cell_type": "code",
   "execution_count": 14,
   "metadata": {},
   "outputs": [
    {
     "name": "stdout",
     "output_type": "stream",
     "text": [
      "{\n",
      "    \"created\": \"sniff_26\"\n",
      "}\n"
     ]
    }
   ],
   "source": [
    "!iotlab-profile addm3 -n sniff_26 -sniffer -channels 26"
   ]
  },
  {
   "cell_type": "markdown",
   "metadata": {},
   "source": [
    "After you have just to update the profile configuration of your node"
   ]
  },
  {
   "cell_type": "code",
   "execution_count": 14,
   "metadata": {},
   "outputs": [
    {
     "name": "stdout",
     "output_type": "stream",
     "text": [
      "{\n",
      "    \"created\": \"sniff_26\"\n",
      "}\n"
     ]
    }
   ],
   "source": [
    "!iotlab-node --update-profile sniff_26 -l grenoble,m3,<id>"
   ]
  },
  {
   "cell_type": "markdown",
   "metadata": {},
   "source": [
    "Connect to the SSH frontend and launch the sniffer_aggregator command. This command aggregates all the nodes sniffer links (TCP socket on port 30000). By default t it encapsulates packet as ZigBee Encapsulation Protocol (ZEP). With the -r option 802.15.4 payload are extracted and saved in a 802.15.4_link_layer pcap file directly usable in wireshark network traffic analyser."
   ]
  },
  {
   "cell_type": "raw",
   "metadata": {},
   "source": [
    "ssh <pseudo-iotlab>@grenoble.iot-lab.info\n",
    "<pseudo-iotlab>@grenoble:~$ \n",
    "<pseudo-iotlab>@grenoble:~$ sniffer_aggregator -r -d -o - | tshark -V -i - > m3-<id>.pcap  "
   ]
  },
  {
   "cell_type": "markdown",
   "metadata": {},
   "source": [
    "Go to the shell node and ping6 Google server"
   ]
  },
  {
   "cell_type": "raw",
   "metadata": {},
   "source": [
    "ping 2a00:1450:4007:808::2003\n",
    "Pinging 2a00:1450:4007:808::2003\n",
    "Received ping reply from 2a00:1450:4007:808::2003, len 4, ttl 50, delay 100 ms\n"
   ]
  },
  {
   "cell_type": "markdown",
   "metadata": {},
   "source": [
    "On the sniffer aggregator shell you must see that you have captured packets. Stop it with Ctr^C shortcut when you have at least 6 packets captured. Edit the pcap file and analyse the traffic.\n"
   ]
  },
  {
   "cell_type": "raw",
   "metadata": {},
   "source": [
    "<pseudo-iotlab>@grenoble:~$ less m3-<id>.pcap  \n",
    "# use q character shortcut to exit"
   ]
  },
  {
   "cell_type": "markdown",
   "metadata": {},
   "source": [
    "From the frame1 (first packet) you can see the IEEE 802.15.4 data, 6LoWPAN and Internet Protocol version 6 layer.\n",
    "\n",
    "* In the 802.15.4 section you can see the mac address of the source and destination packet. You can retrieve the mac address of your node which executes the ping6 address in the Src field.\n",
    "\n",
    "* In the 6LoWPAN section you can see the IPV6 address of the source and destination packet.\n",
    "\n",
    "* In the IPv6 section you can see the ICMP message which corresponds to a Echo ping request (ping6 command)\n",
    "\n",
    "From the frame2 you should see the ICMP message from the Google server which corresponds to Echo ping reply.\n",
    "\n",
    "In the next frames you can discover the Neighbor Discovery Protocol traffic between the border router and the node. You should see Neighbor Solicitation and Advertisement message exchanged  between the border router and the node.\n"
   ]
  },
  {
   "cell_type": "code",
   "execution_count": null,
   "metadata": {},
   "outputs": [],
   "source": []
  }
 ],
 "metadata": {
  "kernelspec": {
   "display_name": "Python 3",
   "language": "python",
   "name": "python3"
  },
  "language_info": {
   "codemirror_mode": {
    "name": "ipython",
    "version": 3
   },
   "file_extension": ".py",
   "mimetype": "text/x-python",
   "name": "python",
   "nbconvert_exporter": "python",
   "pygments_lexer": "ipython3",
   "version": "3.6.8"
  }
 },
 "nbformat": 4,
 "nbformat_minor": 4
}
