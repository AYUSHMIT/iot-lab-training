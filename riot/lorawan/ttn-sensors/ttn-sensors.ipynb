{
 "cells": [
  {
   "cell_type": "markdown",
   "metadata": {},
   "source": [
    "## Autonomously send real sensor values to TTN\n",
    "\n",
    "**Prerequisites:** You must have followed the [getting started with TTN notebook](../getting-started-ttn/getting-started-ttn.ipynb) before starting this one.\n",
    "\n",
    "> We also consider that the application id is **iotlab-lorawan** and the device id is **iotlab-node** but you'll have to use the ids corresponding to your application and device configured in TTN.\n",
    "\n",
    "In this notebook, you will write an autonomous LoRaWAN application with the following specifications:\n",
    "- The application automatically connects to TTN at startup using the OTAA activation and a datarate index of 5\n",
    "- In case of an activation issue, an error message is printed to the console and the application returns\n",
    "- A message is printed to the console to confirm the success of the activation\n",
    "- A message is sent periodically (check the duty cycle!) to the TTN backend. This message will first contain a basic string and in a second phase, it will\n",
    "- A message is printed to the console each time the message is sent with success.\n",
    "\n",
    "We provide a starting RIOT application with a [Makefile](Makefile) and a [main.c](./main.c). The [Makefile](Makefile) is already configured but you will have to edit the [main.c](./main.c) by following the instructions of this Notebook.\n",
    "\n",
    "### Configure the TTN payload format\n",
    "\n",
    "Before we start coding the application, we need to change how the data is displayed in the `Data` tab of your TTN application.\n",
    "\n",
    "<figure style=\"text-align:center\">\n",
    "    <img src=\"images/application-tab-data.png\" width=\"500\" align=\"center\"/><br/><br/>\n",
    "    <figcaption><em>Application `Data` tab in the TTN console</em></figcaption>\n",
    "</figure>\n",
    "\n",
    "You can change this format of the payload used to display the content of an uplink message in the `Payload formats` tab:\n",
    "\n",
    "<figure style=\"text-align:center\">\n",
    "    <img src=\"images/application-tab-payload-format.png\" width=\"500\" align=\"center\"/><br/><br/>\n",
    "    <figcaption><em>Application `Payload formats` tab in the TTN console</em></figcaption>\n",
    "</figure>\n",
    "\n",
    "1. Select `Custom` in the drop down button.\n",
    "2. Copy the following code snippet in the `decoder` text edit:\n",
    "\n",
    "```js\n",
    "function Decoder(bytes, port) {\n",
    "    var message = \"\"\n",
    "    for (var i = 0; i < bytes.length; i++) {\n",
    "        message += String.fromCharCode(bytes[i])\n",
    "    }\n",
    "    var decoded = {}\n",
    "    decoded.message = message\n",
    "    return decoded\n",
    "}\n",
    "```\n",
    "\n",
    "### Implement an autonomous RIOT application\n",
    "\n",
    "The LoRaWAN API of RIOT is documented online at http://doc.riot-os.org/group__pkg__semtech-loramac.html.\n",
    "\n",
    "Let's edit the [main.c](./main.c).\n",
    "\n",
    "1. Add the necessary includes under the comment `/* Add necessary include here */`:\n",
    "\n",
    "\n",
    "```c9\n",
    "#include \"net/loramac.h\"     /* core loramac definitions */\n",
    "#include \"semtech_loramac.h\" /* package API */\n",
    "```\n",
    "\n",
    "\n",
    "2. Declare the global descriptor for the loramac stack:\n",
    "\n",
    "\n",
    "```c\n",
    "semtech_loramac_t loramac;  /* The loramac stack descriptor */\n",
    "```\n",
    "\n",
    "\n",
    "3. Configure the identifiers (application and device) and the application key. You can find them in the device overview on TTN.\n",
    "\n",
    "\n",
    "```c\n",
    "static const uint8_t deveui[LORAMAC_DEVEUI_LEN] = { 0x00, 0x00, 0x00, 0x00, 0x00, 0x00, 0x00, 0x00 };\n",
    "static const uint8_t appeui[LORAMAC_APPEUI_LEN] = { 0x00, 0x00, 0x00, 0x00, 0x00, 0x00, 0x00, 0x00 };\n",
    "static const uint8_t appkey[LORAMAC_APPKEY_LEN] = { 0x00, 0x00, 0x00, 0x00, 0x00, 0x00, 0x00, 0x00, 0x00, 0x00, 0x00, 0x00, 0x00, 0x00, 0x00, 0x00 };\n",
    "```\n",
    "\n",
    "**note:** in the device overview on TTN, it's possible to switch the representation of the EUIs and key from an hexadecimal representation (the default) to a C byte array representation (the one that interests us here): use the `<>` button to switch from one to the other and keep the MSB order.\n",
    "\n",
    "4. At the beginning of the main function, initialize the loramac stack:\n",
    "\n",
    "```c\n",
    "    semtech_loramac_init(&loramac);\n",
    "```\n",
    "\n",
    "5. Then, configure the keys:\n",
    "\n",
    "```c\n",
    "    semtech_loramac_set_deveui(&loramac, deveui);\n",
    "    semtech_loramac_set_appeui(&loramac, appeui);\n",
    "    semtech_loramac_set_appkey(&loramac, appkey);\n",
    "```\n",
    "\n",
    "6. All devices are very close to the gateway in IoT-LAB, so we can configure a fast datarate. Let's use DR5:\n",
    "\n",
    "```c\n",
    "    semtech_loramac_set_dr(&loramac, 5);\n",
    "```\n",
    "\n",
    "7. Add the logic to join the network using the OTAA activation:\n",
    "\n",
    "```c\n",
    "    if (semtech_loramac_join(&loramac, LORAMAC_JOIN_OTAA) != SEMTECH_LORAMAC_JOIN_SUCCEEDED) {\n",
    "        puts(\"Join procedure failed\");\n",
    "        return 1;\n",
    "    }\n",
    "    puts(\"Join procedure succeeded\");\n",
    "```\n",
    "\n",
    "8. Finally, in the `while` loop (under the comment `/* send the message here */`), send the message or continue if the message couldn't be sent:\n",
    "\n",
    "```c\n",
    "        if (semtech_loramac_send(&loramac,\n",
    "                                 (uint8_t *)message, strlen(message)) != SEMTECH_LORAMAC_TX_DONE) {\n",
    "            printf(\"Cannot send message '%s'\\n\", message);\n",
    "        }\n",
    "        else {\n",
    "            printf(\"Message '%s' sent\\n\", message);\n",
    "        }\n",
    "```\n",
    "\n",
    "9. Let's verify that the application builds correctly:"
   ]
  },
  {
   "cell_type": "code",
   "execution_count": null,
   "metadata": {},
   "outputs": [],
   "source": [
    "!make"
   ]
  },
  {
   "cell_type": "markdown",
   "metadata": {},
   "source": [
    "## Start an experiment on IoT-LAB\n",
    "\n",
    "Now that we have a ready application, we can try it on the real hardware provided remotely by IoT-LAB.\n",
    "\n",
    "1. Submit an experiment with one LoRa device on IoT-LAB:"
   ]
  },
  {
   "cell_type": "code",
   "execution_count": null,
   "metadata": {},
   "outputs": [],
   "source": [
    "!iotlab-experiment submit -n \"ttn-sensors\" -d 120 -l 1,archi=st-lrwan1:sx1276+site=saclay"
   ]
  },
  {
   "cell_type": "markdown",
   "metadata": {},
   "source": [
    "2. Wait for the experiment to be in the \"Running\" state:"
   ]
  },
  {
   "cell_type": "code",
   "execution_count": null,
   "metadata": {},
   "outputs": [],
   "source": [
    "!iotlab-experiment wait --timeout 30 --cancel-on-timeout"
   ]
  },
  {
   "cell_type": "markdown",
   "metadata": {},
   "source": [
    "**Note:** If the command above returns the message `Timeout reached, cancelling experiment <exp_id>`, try to re-submit your experiment later.\n",
    "\n",
    "3. Open a new terminal with the menu `File > New > Terminal` and in the terminal, run the following command to connect to the serial link of the LoRa board:"
   ]
  },
  {
   "cell_type": "raw",
   "metadata": {},
   "source": [
    "make IOTLAB_NODE=auto-ssh -C riot/lorawan/ttn-sensors term"
   ]
  },
  {
   "cell_type": "markdown",
   "metadata": {},
   "source": [
    "**Keep this command running.**"
   ]
  },
  {
   "cell_type": "markdown",
   "metadata": {},
   "source": [
    "4. Build and flash the application on the LoRa board:"
   ]
  },
  {
   "cell_type": "code",
   "execution_count": null,
   "metadata": {},
   "outputs": [],
   "source": [
    "!make IOTLAB_NODE=auto-ssh flash"
   ]
  },
  {
   "cell_type": "markdown",
   "metadata": {},
   "source": [
    "One the flashing is complete, in the terminal, you should see the messages corresponding to the join procedure (\"Join procedure succeeed\") and the messages sent every 20s.\n",
    "\n",
    "If the device cannot join, verify the configured EUIs and the application key.\n",
    "\n",
    "If everything works as expected, you should see the decoded \"This is RIOT!\" messages appear in the `Data` tab of your application:\n",
    "\n",
    "\n",
    "<figure style=\"text-align:center\">\n",
    "    <img src=\"images/ttn-decoded-messages-received.png\" width=\"600\" align=\"center\"/><br/><br/>\n",
    "    <figcaption><em>Decoded messages received in the TTN console</em></figcaption>\n",
    "</figure>"
   ]
  },
  {
   "cell_type": "markdown",
   "metadata": {},
   "source": [
    "### Free up the resources\n",
    "\n",
    "Since you finished the training, stop your experiment to free up the experiment nodes:"
   ]
  },
  {
   "cell_type": "code",
   "execution_count": null,
   "metadata": {},
   "outputs": [],
   "source": [
    "!iotlab-experiment stop"
   ]
  },
  {
   "cell_type": "markdown",
   "metadata": {},
   "source": [
    "The serial link connection through SSH will be closed automatically."
   ]
  }
 ],
 "metadata": {
  "kernelspec": {
   "display_name": "Python 3",
   "language": "python",
   "name": "python3"
  },
  "language_info": {
   "codemirror_mode": {
    "name": "ipython",
    "version": 3
   },
   "file_extension": ".py",
   "mimetype": "text/x-python",
   "name": "python",
   "nbconvert_exporter": "python",
   "pygments_lexer": "ipython3",
   "version": "3.7.6"
  }
 },
 "nbformat": 4,
 "nbformat_minor": 4
}
