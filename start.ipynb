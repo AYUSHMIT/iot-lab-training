{
 "cells": [
  {
   "cell_type": "markdown",
   "metadata": {},
   "source": [
    "# Welcome to the IoT-LAB testbed training\n",
    "\n",
    "This repository contains training resources to easily start using the IoT-LAB testbed.\n",
    "\n",
    "## Short introduction to JupyterLab\n",
    "\n",
    "[JupyterLab](https://jupyterlab.readthedocs.io/en/latest/) enables you to work with documents and activities such as Jupyter notebooks, code editors and terminals. You can arrange multiple documents and activities side by side in the work area using tabs and splitters.\n",
    "\n",
    "Jupyter notebooks are documents that combine live runnable code with narrative text (Markdown), equations (LaTeX), images, interactive visualizations and other rich output. It is used by scientists and scholars to create and share their research, especially in the data science community.\n",
    "\n",
    "For a complete introduction to Jupyter Notebooks, refer to the [official user documentation](https://jupyterlab.readthedocs.io/en/latest/user/notebook.html).\n",
    "\n",
    "In the sections below, we describe the minimum required functions that will allow to follow the notebooks available in this training.\n",
    "\n",
    "The notebook consists of a sequence of cells:\n",
    "- A cell is a multiline text input field, and its contents can be executed by using **Ctrl+Enter**, or by clicking either **the “Play” button**\n",
    "- Use the _up_ and _down_ arrows of the keyboard to navigate between cells\n",
    "- The **Shift+Enter** keyboard shortcut executes the currently selected cell and selects the next one automatically\n",
    "\n",
    "### Code cells\n",
    "\n",
    "A code cell allows you to edit and write new code, with full syntax highlighting and tab completion.\n",
    "\n",
    "In general, Jupyter notebooks contain Python code. Once selected the cell should be executed with **Ctrl+Enter** shortcut. The results that are returned from this computation are then displayed in the notebook as the cell’s output.\n",
    " "
   ]
  },
  {
   "cell_type": "code",
   "execution_count": null,
   "metadata": {},
   "outputs": [],
   "source": [
    "print(\"Hello Jupyter!\")"
   ]
  },
  {
   "cell_type": "markdown",
   "metadata": {},
   "source": [
    "In our notebooks you will mainly find shell commands executed in the Jupyterlab server. In this case the cell should start with exclamation mark."
   ]
  },
  {
   "cell_type": "code",
   "execution_count": null,
   "metadata": {},
   "outputs": [],
   "source": [
    "!echo \"Hello Jupyter!\""
   ]
  },
  {
   "cell_type": "markdown",
   "metadata": {},
   "source": [
    "Finally you will also find lines starting with the '%' character. They are used to set environment variables.  "
   ]
  },
  {
   "cell_type": "code",
   "execution_count": null,
   "metadata": {},
   "outputs": [],
   "source": [
    "%env HELLO_JUPYTER=\"Hello Jupyter!\"\n",
    "!echo $HELLO_JUPYTER"
   ]
  },
  {
   "cell_type": "markdown",
   "metadata": {},
   "source": [
    " \n",
    "### Raw cells\n",
    "\n",
    "A raw cell provides a place in which you can write output directly. Raw cells are not evaluated by the notebook. \n",
    "\n",
    "In our context we use raw cells when commands need interaction. Therefore you must execute them in a JupyterLab terminal. You just have to copy/paste them from the raw cell to the Jupyterlab terminal using the usual **Ctrl+C** and **Ctrl+V** keyboard shortcuts.\n",
    "\n",
    "To open a Jupyterlab terminal, select the menu entry in `File > New > Terminal`.\n",
    "\n",
    "\n",
    "There are 3 categories of commands:\n",
    "\n",
    "1. Commands that must be run in the Jupyterlab server:"
   ]
  },
  {
   "cell_type": "raw",
   "metadata": {},
   "source": [
    "echo \"Hello Jupyter!\""
   ]
  },
  {
   "cell_type": "markdown",
   "metadata": {},
   "source": [
    "2. Commands that must be run on the SSH frontend of an IoT-LAB site: they are prefixed with the prompt `<login>@<site>:~$ `.\n",
    "This means that before running this command after the prompt, you should open an SSH connection to the site frontend with"
   ]
  },
  {
   "cell_type": "raw",
   "metadata": {},
   "source": [
    "ssh $IOTLAB_LOGIN@<site>.iot-lab.info"
   ]
  },
  {
   "cell_type": "markdown",
   "metadata": {},
   "source": [
    "You can choose a site between **grenoble**, **lille**, **saclay** and **strasbourg**.\n",
    "\n",
    "For example, to execute the command `ls` on the SSH frontend of an IoT-LAB site, the raw cell will contain:"
   ]
  },
  {
   "cell_type": "raw",
   "metadata": {},
   "source": [
    "<login>@<site>:~$ ls"
   ]
  },
  {
   "cell_type": "markdown",
   "metadata": {},
   "source": [
    "3. Commands that must be run in a RIOT or a contiki-ng shell: they are prefixed with the prompt `>`."
   ]
  },
  {
   "cell_type": "raw",
   "metadata": {},
   "source": [
    "Sometimes the expected output of the command is also given in the raw cells."
   ]
  }
 ],
 "metadata": {
  "kernelspec": {
   "display_name": "Python 3",
   "language": "python",
   "name": "python3"
  },
  "language_info": {
   "codemirror_mode": {
    "name": "ipython",
    "version": 3
   },
   "file_extension": ".py",
   "mimetype": "text/x-python",
   "name": "python",
   "nbconvert_exporter": "python",
   "pygments_lexer": "ipython3",
   "version": "3.7.6"
  }
 },
 "nbformat": 4,
 "nbformat_minor": 4
}
