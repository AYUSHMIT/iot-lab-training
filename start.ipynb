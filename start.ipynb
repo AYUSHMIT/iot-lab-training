{
 "cells": [
  {
   "cell_type": "markdown",
   "metadata": {},
   "source": [
    "## Welcome to the IoT-LAB testbed training\n",
    "\n",
    "This repository contains training resources to easily start using the IoT-LAB\n",
    "testbed.\n",
    "\n",
    "**Important:** if it your first time on IoT-LAB, or if you are not following the IoT Mooc, we recommend that you start by following **[the setup notebook](setup/setup.ipynb)**.\n",
    "\n",
    "The training is divided in XX sections:\n",
    "\n",
    "### First experiment\n",
    "\n",
    "In this section, you will learn how to submit an experiment, flash a precompiled firmware and read the serial port, via the command line.\n",
    "\n",
    "Just click on **[this link](first-experiment/first-experiment.ipynb)**.\n",
    "\n",
    "### Operating Systems tutorials\n",
    "\n",
    "There are notebooks to help you learn how to use and program applications using the major Operating Systems for IoT:\n",
    "\n",
    "- **[RIOT](riot/riot.ipynb)**\n",
    "- **[Contiki-NG](contiki-ng/contiki-ng.ipynb)**\n"
   ]
  }
 ],
 "metadata": {
  "kernelspec": {
   "display_name": "Python 3",
   "language": "python",
   "name": "python3"
  },
  "language_info": {
   "codemirror_mode": {
    "name": "ipython",
    "version": 3
   },
   "file_extension": ".py",
   "mimetype": "text/x-python",
   "name": "python",
   "nbconvert_exporter": "python",
   "pygments_lexer": "ipython3",
   "version": "3.6.8"
  }
 },
 "nbformat": 4,
 "nbformat_minor": 4
}
