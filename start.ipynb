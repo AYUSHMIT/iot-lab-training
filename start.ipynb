{
 "cells": [
  {
   "cell_type": "markdown",
   "metadata": {},
   "source": [
    "# Welcome to the IoT-LAB testbed training\n",
    "\n",
    "This repository contains training resources to easily start using the IoT-LAB testbed.\n",
    "\n",
    "## Short introduction to JupyterLab\n",
    "\n",
    "If you are reading this introduction it's because JupyterLab is running in the IoT-LAB virtual machine. JupyterLab enables you to work with documents and activities such as Jupyter notebooks, code editors and terminals. You can arrange multiple documents and activities side by side in the work area using tabs and splitters.\n",
    "\n",
    "Jupyter notebooks are documents that combine live runnable code with narrative text (Markdown), equations (LaTeX), images, interactive visualizations and other rich output. It is used by scientists and scholars to create and share their research, especially in the data science community.\n",
    "\n",
    "The notebook consists of a sequence of cells. A cell is a multiline text input field, and its contents can be executed by using Shift-Enter, or by clicking either the “Play” button.\n",
    "\n",
    "### Code cells\n",
    "\n",
    "A code cell allows you to edit and write new code, with full syntax highlighting and tab completion.\n",
    "\n",
    "In general, Jupyter notebooks contain Python code. Once selected the cell should be executed with `Shift+Enter` shortcut. The results that are returned from this computation are then displayed in the notebook as the cell’s output.\n",
    " "
   ]
  },
  {
   "cell_type": "code",
   "execution_count": null,
   "metadata": {},
   "outputs": [],
   "source": [
    "print(\"Hello Jupyter!\")"
   ]
  },
  {
   "cell_type": "markdown",
   "metadata": {},
   "source": [
    "In our notebooks you will mainly find shell commands executed in your virtual machine. In this case the cell should start with exclamation mark."
   ]
  },
  {
   "cell_type": "code",
   "execution_count": null,
   "metadata": {},
   "outputs": [],
   "source": [
    "!echo \"Hello Jupyter!\""
   ]
  },
  {
   "cell_type": "markdown",
   "metadata": {},
   "source": [
    "Finally you will also find lines starting with the '%' character. They are used to set environment variables.  "
   ]
  },
  {
   "cell_type": "code",
   "execution_count": null,
   "metadata": {},
   "outputs": [],
   "source": [
    "%env HELLO_JUPYTER=\"Hello Jupyter!\"\n",
    "!echo $HELLO_JUPYTER"
   ]
  },
  {
   "cell_type": "markdown",
   "metadata": {},
   "source": [
    " \n",
    "### Raw cells\n",
    "\n",
    "A raw cell provides a place in which you can write output directly. Raw cells are not evaluated by the notebook. \n",
    "\n",
    "In our context we use raw cells when commands need interaction. Therefore you must execute them in JupyterLab terminal. You just have to copy/paste them. Use `File>New>Terminal` to open a terminal and run the command of the following cell:"
   ]
  },
  {
   "cell_type": "raw",
   "metadata": {},
   "source": [
    "echo \"Hello Jupyter!\""
   ]
  },
  {
   "cell_type": "markdown",
   "metadata": {},
   "source": [
    "## Setup\n",
    "\n",
    "If you don't yet have an account on the IoT-LAB, create one on the [Signup page](https://www.iot-lab.info/testbed/signup).\n",
    "\n",
    "Then follow the [the setup notebook](setup/setup.ipynb) to configure the training environment with your account.\n",
    "\n",
    "## First experiment\n",
    "\n",
    "In this section, you will learn how to submit an experiment, flash a precompiled firmware and read the serial port, via the command line.\n",
    "\n",
    "Just click on [this link](first-experiment/first-experiment.ipynb).\n",
    "\n",
    "## Operating Systems tutorials\n",
    "\n",
    "There are notebooks to help you learn how to use and program applications using the major Operating Systems for IoT:\n",
    "\n",
    "- [RIOT](riot/riot.ipynb)\n",
    "- [Contiki-NG](contiki-ng/contiki-ng.ipynb)"
   ]
  },
  {
   "cell_type": "code",
   "execution_count": null,
   "metadata": {},
   "outputs": [],
   "source": []
  }
 ],
 "metadata": {
  "kernelspec": {
   "display_name": "Python 3",
   "language": "python",
   "name": "python3"
  },
  "language_info": {
   "codemirror_mode": {
    "name": "ipython",
    "version": 3
   },
   "file_extension": ".py",
   "mimetype": "text/x-python",
   "name": "python",
   "nbconvert_exporter": "python",
   "pygments_lexer": "ipython3",
   "version": "3.6.9"
  }
 },
 "nbformat": 4,
 "nbformat_minor": 4
}
