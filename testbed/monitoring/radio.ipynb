{
 "cells": [
  {
   "cell_type": "markdown",
   "metadata": {},
   "source": [
    "## Radio monitoring\n",
    "\n",
    "Radio monitoring is an optional feature which measures the radio signal power (RSSI) or can be used as radio packet sniffer for IEEE 802.15.4. It refers to the Control Node dedicated hardware installed on the IoT-LAB node to enable the monitoring. You will learn how to create a Profile monitoring configuration and enable it for your experiment. Moreover you will figure out how to get and analyse the monitoring data.\n",
    "    "
   ]
  },
  {
   "cell_type": "markdown",
   "metadata": {},
   "source": [
    "### Launch an experiment\n",
    "\n",
    "1. Choose your site (grenoble|lille|strasbourg):"
   ]
  },
  {
   "cell_type": "code",
   "execution_count": null,
   "metadata": {},
   "outputs": [],
   "source": [
    "%env SITE=grenoble"
   ]
  },
  {
   "cell_type": "markdown",
   "metadata": {},
   "source": [
    "2. Submit an experiment with two nodes and a prebuilt tutorial firmware "
   ]
  },
  {
   "cell_type": "code",
   "execution_count": null,
   "metadata": {},
   "outputs": [],
   "source": [
    "!iotlab-experiment submit -d 120 -l 2,archi=m3:at86rf231+site=$SITE,tutorial_m3.elf"
   ]
  },
  {
   "cell_type": "markdown",
   "metadata": {},
   "source": [
    "3. Wait for the experiment to be in the Running state:"
   ]
  },
  {
   "cell_type": "code",
   "execution_count": null,
   "metadata": {},
   "outputs": [],
   "source": [
    "!iotlab-experiment wait"
   ]
  },
  {
   "cell_type": "markdown",
   "metadata": {},
   "source": [
    "4. Check the resources allocated to the experiment"
   ]
  },
  {
   "cell_type": "code",
   "execution_count": null,
   "metadata": {},
   "outputs": [],
   "source": [
    "!iotlab-experiment get -ri"
   ]
  },
  {
   "cell_type": "markdown",
   "metadata": {},
   "source": [
    "### Monitoring profile\n",
    "\n",
    "You must create a monitoring profile with the following configuration\n",
    "\n",
    "* Monitor radio: RSSI mode.\n",
    "* Channel 11 (used by the prebuilt firmware) and 14 (unused channel)\n",
    "* Period = 1 ms (duration of one measure for a channel)\n",
    "* Number of measure by channel = 1 (the number of times of measurements per channel)"
   ]
  },
  {
   "cell_type": "code",
   "execution_count": null,
   "metadata": {},
   "outputs": [],
   "source": [
    "!iotlab-profile addm3 -n radio_rssi -rssi -channels 11 14 -rperiod 1 -num 1"
   ]
  },
  {
   "cell_type": "markdown",
   "metadata": {},
   "source": [
    "Apply this monitoring configuration to your nodes"
   ]
  },
  {
   "cell_type": "code",
   "execution_count": null,
   "metadata": {},
   "outputs": [],
   "source": [
    "!iotlab-node --update-profile radio_rssi"
   ]
  },
  {
   "cell_type": "markdown",
   "metadata": {},
   "source": [
    "At this stage use `File > New > Terminal` and connect to the IoT-LAB SSH frontend to have access of the node's serial link. Launch the serial_aggregator command and choose one node to send five big radio packets (with the firmware shell) and visualize the good reception on the other one. You must replace ``<id1>`` with a good node's id."
   ]
  },
  {
   "cell_type": "raw",
   "metadata": {},
   "source": [
    "ssh -X <pseudo-iotlab>@<site>.iot-lab.info\n",
    "<pseudo-iotlab>@<site>:~$ serial_aggregator\n",
    "...\n",
    "# Hit \"Space+Enter\" to stop the flood.\n",
    "m3-<id1>;b # send one big radio packet from the node m3-<id1>. Hit \"Enter\" to execute the command\n",
    "1578307588.006162;m3-<id1>;cmd >\n",
    "1578307588.006417;m3-<id1>;radio > Big packet sent\n",
    "1578307588.006543;m3-<id1>;\n",
    "1578307588.009438;m3-<id2>;cmd >\n",
    "1578307588.011165;m3-<id2>;radio > Got packet from <UID_M3_ID1> (m3-<id1>). Len: 60 Rssi: -56: 'Big Hello World!: 0 012345678901234567890123456789012345678'\n",
    "1578307588.011331;m3-<id2>;\n",
    "m3-<id1>;b\n",
    "1578307594.166009;m3-<id1>;cmd >\n",
    "1578307594.166634;m3-<id1>;radio > Big packet sent\n",
    "1578307594.166832;m3-<id1>;\n",
    "1578307594.169027;m3-<id2>;cmd >\n",
    "1578307594.171689;m3-<id2>;radio > Got packet from <UID_M3_ID1> (m3-<id1>). Len: 60 Rssi: -56: 'Big Hello World!: 1 012345678901234567890123456789012345678'\n",
    "1578307594.171928;m3-<id2>;\n",
    "# Continue and send five packets in total\n",
    "....\n",
    "# Ctrl^C to exit"
   ]
  },
  {
   "cell_type": "markdown",
   "metadata": {},
   "source": [
    "### Analyse monitoring data\n",
    "\n",
    "The monitoring data is stored on the SSH frontend server in your home directory. You can find it in the ~/.iot-lab/<exp_id>/radio/ directory. We use the OML measurement library and you can find a file ``m3_<id>.oml`` for each monitored nodes. Don’t worry if you have empty files, OML library performs caching. You have to wait a little while or manually stop the experiment to flush the cache.\n",
    "\n",
    "View the monitoring OML file content:"
   ]
  },
  {
   "cell_type": "raw",
   "metadata": {},
   "source": [
    "<pseudo-iotlab>@<site>:~$ less ~/.iot-lab/<experiment id>/radio/m3_<id>.oml # .iot-lab/last is a symlink to your last experiment directory .iot-lab/<exp_id>\n",
    "protocol: 4\n",
    "domain: 4291\n",
    "start-time: 1397726665\n",
    "sender-id: m3-3\n",
    "app-name: control_node_measures\n",
    "schema: 0 _experiment_metadata subject:string key:string value:string\n",
    "schema: 2 control_node_measures_radio timestamp_s:uint32 timestamp_us:uint32 channel:uint32 rssi:int32\n",
    "content: text\n",
    "\n",
    "0.620337\t2\t1\t1397726665\t577557\t22\t-91\n",
    "0.620611\t2\t2\t1397726665\t578533\t26\t-91\n",
    "0.620642\t2\t3\t1397726665\t579510\t22\t-91\n",
    "0.620672\t2\t4\t1397726665\t580486\t26\t-91\n",
    "...."
   ]
  },
  {
   "cell_type": "markdown",
   "metadata": {},
   "source": [
    "RSSI stands for Received Signal Strength Indication. It is the relative received signal strength in a wireless environment. In IoT-LAB, measured RSSI values provide an indication of the radio power level received by the antenna of the Control Node hardware. The RSSI value is expressed in dBm (Decibel-milliwatts), and represents the power ratio in decibels (dB) of the measured power referenced to one milliwatt (mW). A power level of 0 dBm corresponds to 1mW.\n",
    "\n",
    "We provide an OML plotting tool which helps you to analyse monitoring data.\n"
   ]
  },
  {
   "cell_type": "raw",
   "metadata": {},
   "source": [
    "<pseudo-iotlab>@<site>:~$ plot_oml_radio -a -i ~/.iot-lab/last/radio/m3_<id>.oml"
   ]
  },
  {
   "cell_type": "markdown",
   "metadata": {},
   "source": [
    "Check that you observe the peaks in the measured RSSI that happen when sending the big packets on channel 11. Check that you observe only noise on channel 14. Depending on the radio environnement perturbations, you should measure a RSSI near -91 dBm with relative noise.\n",
    "\n",
    "<img src=\"img/radio-rssi.jpg\">"
   ]
  },
  {
   "cell_type": "code",
   "execution_count": null,
   "metadata": {},
   "outputs": [],
   "source": []
  }
 ],
 "metadata": {
  "kernelspec": {
   "display_name": "Python 3",
   "language": "python",
   "name": "python3"
  },
  "language_info": {
   "codemirror_mode": {
    "name": "ipython",
    "version": 3
   },
   "file_extension": ".py",
   "mimetype": "text/x-python",
   "name": "python",
   "nbconvert_exporter": "python",
   "pygments_lexer": "ipython3",
   "version": "3.6.8"
  }
 },
 "nbformat": 4,
 "nbformat_minor": 4
}
