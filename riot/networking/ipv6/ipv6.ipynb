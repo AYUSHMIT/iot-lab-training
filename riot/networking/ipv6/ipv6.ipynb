{
 "cells": [
  {
   "cell_type": "markdown",
   "metadata": {},
   "source": [
    "## Discover IPv6 and 6LoWPAN\n",
    "\n",
    "In this excercice you will learn how you should communicate with IPV6 and wireless low power devices. The 6LoWPAN protocol has been developed to define the IPv6 adaptation and the way the IP datagrams will be transported over the IEEE802.15.4 radio links. You will deploy a private IPv6 network and test the connectivity between nodes. Moreover you will setup a public IPv6 network with a border router and verify that you can communicate with public servers. Finally with the monitoring feature you will configure a radio sniffer and analyse the traffic. With wireshark, a network protocol analyzer, you will inspect the packets from the different protocols layers with headers and payloads.\n",
    "\n",
    "### IPv6 overview\n",
    "\n",
    "Before going into the explanations of network configuration on the nodes, it is essential to have some notions about IPv6. Unlike an IPv4 address which is coded on 32 bits (ie 4 bytes) and uses a decimal notation (for example: 192.168.6.19), an IPv6 address is represented by a series of 128 bits (16 bytes), and is represented with a hexadecimal notation. For example, a public IPv6 address (so-called \"global\" unicast address, that is to say routable) on IoT-LAB Grenoble site can have the full representation:\n",
    "\n",
    "`2001:0660:5307:30ff:0000:0000:0000:0001` can be shortened to `2001:660:5307:30ff::1` (a series of 0 contiguous is replaced only once by ::)\n",
    "\n",
    "This 128-bit series is often divided into 2 parts:\n",
    "\n",
    "* the least significant 64 bits correspond to the address of the host, `::1` in the previous example. Generally, they are constructed from the MAC address of the host to guarantee the uniqueness of an IPv6 address in a subnet (since the physical address isrmally);\n",
    "\n",
    "* the most significant 64 bits correspond to the network address, `2001:660:5307:30ff::/64` in the previous example. They contain in particular the \"prefix\" used for routing IPv6 packets and use, as in IPv4, the CIDR notation: <prefix> / <bit length>. This 64-bit block is divided into a first part containing up to 48 bits and designating the \"site prefix\",  (`2001:660:5307`) the rest of the bits identifying the subnet (`30ff`). A prefix always contains 64 bits.\n",
    "\n",
    "Some prefixes are reserved for very specific uses:\n",
    "\n",
    "* `fe80::/10` is used for unicast addresses called \"link-local\". This type of address only allows 2 network nodes to communicate if they share a direct physical link. This was the case with two nodes with wireless interface (802.15.4),\n",
    "\n",
    "* `fd00::/8` is intended for \"Unique Local Address\" addresses. These addresses correspond to private addresses in IPv4 and are not routable.\n",
    "\n",
    "\n",
    "### Launch an experiment\n",
    "    \n",
    "Choose your site (grenoble|lille|strasbourg):"
   ]
  },
  {
   "cell_type": "code",
   "execution_count": null,
   "metadata": {},
   "outputs": [],
   "source": [
    "%env SITE=grenoble"
   ]
  },
  {
   "cell_type": "markdown",
   "metadata": {},
   "source": [
    "1. Submit an experiment with two nodes"
   ]
  },
  {
   "cell_type": "code",
   "execution_count": null,
   "metadata": {},
   "outputs": [],
   "source": [
    "!iotlab-experiment submit -d 60 -l 2,archi=m3:at86rf231+site=$SITE"
   ]
  },
  {
   "cell_type": "markdown",
   "metadata": {},
   "source": [
    "2. Wait for the experiment to be in the Running state:"
   ]
  },
  {
   "cell_type": "code",
   "execution_count": null,
   "metadata": {},
   "outputs": [],
   "source": [
    "!iotlab-experiment wait"
   ]
  },
  {
   "cell_type": "markdown",
   "metadata": {},
   "source": [
    "3. Check the nodes allocated to the experiment"
   ]
  },
  {
   "cell_type": "code",
   "execution_count": null,
   "metadata": {},
   "outputs": [],
   "source": [
    "!iotlab-experiment get -ni"
   ]
  },
  {
   "cell_type": "markdown",
   "metadata": {},
   "source": [
    "### Communication between two nodes\n",
    "\n",
    "For the two experiment nodes open a Jupyter terminal (use `File > New > Terminal`) and compile RIOT `gnrc_networking` example. Replace `<id> <site>`with the right values.\n"
   ]
  },
  {
   "cell_type": "raw",
   "metadata": {},
   "source": [
    "make -C riot/RIOT/examples/gnrc_networking BOARD=iotlab-m3 IOTLAB_NODE=m3-<id>.<site>.iot-lab.info flash term "
   ]
  },
  {
   "cell_type": "markdown",
   "metadata": {},
   "source": [
    "At this stage you can print the network configuration of one node and test the IPv6 connectivity with the other one. You can note that we used the IPv6 \"link-local\" address of the node (`inet6 addr` field). We don't have a global IPV6 address and we can only communicate because the two nodes are in the same radio neighborhood with the same physical link (802.15.4 and channel 26)"
   ]
  },
  {
   "cell_type": "raw",
   "metadata": {},
   "source": [
    "> ifconfig\n",
    "ifconfig\n",
    "Iface  7  HWaddr: 11:15  Channel: 26  Page: 0  NID: 0x23\n",
    "          Long HWaddr: 22:5C:FC:65:10:6B:11:15 \n",
    "           TX-Power: 0dBm  State: IDLE  max. Retrans.: 3  CSMA Retries: 4 \n",
    "          AUTOACK  ACK_REQ  CSMA  L2-PDU:102 MTU:1280  HL:64  RTR  \n",
    "          6LO  IPHC  \n",
    "          Source address length: 8\n",
    "          Link type: wireless\n",
    "          inet6 addr: fe80::205c:fc65:106b:1115  scope: link  VAL"
   ]
  },
  {
   "cell_type": "raw",
   "metadata": {},
   "source": [
    "> ping6 fe80::205c:fc65:106b:1115\n",
    "ping6 fe80::205c:fc65:106b:1115\n",
    "12 bytes from fe80::205c:fc65:106b:1115: icmp_seq=0 ttl=64 rssi=-55 dBm time=7.951 ms\n",
    "12 bytes from fe80::205c:fc65:106b:1115: icmp_seq=1 ttl=64 rssi=-55 dBm time=7.311 ms\n",
    "12 bytes from fe80::205c:fc65:106b:1115: icmp_seq=2 ttl=64 rssi=-55 dBm time=9.231 ms\n",
    "\n",
    "--- fe80::205c:fc65:106b:1115 PING statistics ---\n",
    "3 packets transmitted, 3 packets received, 0% packet loss\n",
    "round-trip min/avg/max = 7.311/8.164/9.231 ms"
   ]
  },
  {
   "cell_type": "markdown",
   "metadata": {},
   "source": [
    "### Communication via a Border Router (BR)\n",
    "\n",
    "In order for a node to communicate in IPv6 with a host on the Internet, it needs a “global” unicast address. To do this, a Border Router node  must be added to the network, which will be responsible for propagating the IPv6 global prefix to the other nodes. We speak here of border router, because it is on the border between a 802.15.4 network and a classic Ethernet network. For this choose one node of your experiment to take the role of Border Router (BR). \n",
    "\n",
    "Compile and flash border router firmware with this node. Replace ``<id> <site>`` with the right values."
   ]
  },
  {
   "cell_type": "code",
   "execution_count": null,
   "metadata": {},
   "outputs": [],
   "source": [
    "%env APP_DIR = ../../RIOT/examples/gnrc_border_router\n",
    "!make -C $APP_DIR ETHOS_BAUDRATE=500000 BOARD=iotlab-m3 IOTLAB_NODE=m3-<id>.<site>.iot-lab.info flash"
   ]
  },
  {
   "cell_type": "markdown",
   "metadata": {},
   "source": [
    "Use a Terminal (`File > New > Terminal`) to connect to the IoT-LAB SSH frontend to have access of the BR node's serial link. Replace ``<site>`` with the right value."
   ]
  },
  {
   "cell_type": "raw",
   "metadata": {},
   "source": [
    "ssh $IOTLAB_LOGIN@<site>.iot-lab.info"
   ]
  },
  {
   "cell_type": "markdown",
   "metadata": {},
   "source": [
    "We need to create a network interface and choose a public IPv6 prefix available on the SSH frontend of the site. You can find below the list of available prefix by sites\n",
    "\n",
    "| Site       | First Prefix       | Last Prefix        | Number of Prefix |\n",
    "|------------|--------------------|--------------------|--------------------|\n",
    "| Grenoble   | 2001:660:5307:3100 | 2001:660:5307:317f | 128                |\n",
    "| Lille      | 2001:660:4403:0480 | 2001:660:4403:04ff | 128                |\n",
    "| Strasbourg | 2001:660:4701:f0a0 | 2001:660:4701:f0bf | 32                 |\n",
    "\n",
    "As it's a shared environment you must check before. Visualize which prefix are already used"
   ]
  },
  {
   "cell_type": "raw",
   "metadata": {},
   "source": [
    "<login>@<site>:~$ ip addr show | grep tap\n",
    "1406: tap0: <BROADCAST,MULTICAST,UP,LOWER_UP> mtu 1500 qdisc pfifo_fast state UP group default qlen 500\n",
    "..."
   ]
  },
  {
   "cell_type": "markdown",
   "metadata": {},
   "source": [
    "Visualize on the frontend SSH which prefix are already used"
   ]
  },
  {
   "cell_type": "raw",
   "metadata": {},
   "source": [
    "<login>@<site>:~$ ip -6 route\n",
    "2001:660:5307:3100::/64 dev tun0  proto kernel  metric 256  mtu 1500 advmss 1440 hoplimit 4294967295"
   ]
  },
  {
   "cell_type": "markdown",
   "metadata": {},
   "source": [
    "On the frontend SSH launch the ``ethos_uhcpd`` command with:\n",
    "* a free tap ``<num>`` network interface\n",
    "* a free ``<ipv6_prefix>`` on the good site. For example the first one of Grenoble site ``<ipv6_prefix>=2001:660:5307:3100``\n",
    "* the good node's ``<id>`` for the border router"
   ]
  },
  {
   "cell_type": "raw",
   "metadata": {},
   "source": [
    "<login>@<site>:~$ sudo ethos_uhcpd.py m3-<id> tap<num> <ipv6_prefix>::1/64\n",
    "net.ipv6.conf.tap0.forwarding = 1\n",
    "net.ipv6.conf.tap0.accept_ra = 0\n",
    "Switch from 'root' to '<pseudo-iotlab>'\n",
    "Switch from 'root' to '<pseudo-iotlab>'\n",
    "Joining IPv6 multicast group...\n",
    "entering loop...\n",
    "----> ethos: sending hello.\n",
    "----> ethos: activating serial pass through."
   ]
  },
  {
   "cell_type": "markdown",
   "metadata": {},
   "source": [
    "This setup uses a single serial interface, ethos (Ethernet Over Serial) and UHCP (micro Host Configuration Protocol). Ethos multiplexes serial data to separate ethernet packets from shell commands. UHCP is in charge of configuring the wireless interface prefix and routes on the Border Router.\n",
    "\n",
    "Now on the other node shell with the `ifconfig` command you should see a global ipv6 address:"
   ]
  },
  {
   "cell_type": "raw",
   "metadata": {},
   "source": [
    "> ifconfig\n",
    "ifconfig\n",
    "Iface  7  HWaddr: 29:36  Channel: 26  Page: 0  NID: 0x23\n",
    "          Long HWaddr: 15:11:6B:10:65:FB:A9:36 \n",
    "           TX-Power: 0dBm  State: IDLE  max. Retrans.: 3  CSMA Retries: 4 \n",
    "          AUTOACK  ACK_REQ  CSMA  L2-PDU:102 MTU:1280  HL:64  RTR  \n",
    "          RTR_ADV  6LO  IPHC  \n",
    "          Source address length: 8\n",
    "          Link type: wireless\n",
    "          inet6 addr: fe80::1711:6b10:65fb:a936  scope: local  VAL\n",
    "          inet6 addr: 2001:660:5307:3100:1711:6b10:65fb:a936  scope: global  VAL"
   ]
  },
  {
   "cell_type": "markdown",
   "metadata": {},
   "source": [
    "When a node initializes a network interface and seeks to configure its IP, it performs a procedure called neighbor discovery defined by the Neighbor Discovery Protocol, NDP. First, it sends an ICMPv6 message of type \"Router Solicitation\" and if a router is present on the same link, this sends an ICMPv6 message of type \"Router Advertisement\" containing the prefix (these are also sent periodically through the router). In this way, the node automatically configures its global IP address with the prefix.\n",
    "\n",
    "To test the node's IPv6 connectivity with internet, you could try to ping a public Google server:"
   ]
  },
  {
   "cell_type": "raw",
   "metadata": {},
   "source": [
    "> ping6 2a00:1450:4007:80f::2003\n",
    "ping6 2a00:1450:4007:80f::2003\n",
    "12 bytes from 2a00:1450:4007:80f::2003: icmp_seq=0 ttl=50 rssi=-46 dBm time=70.130 ms\n",
    "12 bytes from 2a00:1450:4007:80f::2003: icmp_seq=1 ttl=50 rssi=-46 dBm time=68.492 ms\n",
    "12 bytes from 2a00:1450:4007:80f::2003: icmp_seq=2 ttl=50 rssi=-46 dBm time=68.492 ms\n",
    "\n",
    "--- 2a00:1450:4007:80f::2003 PING statistics ---\n",
    "3 packets transmitted, 3 packets received, 0% packet loss\n",
    "round-trip min/avg/max = 68.492/69.038/70.130 ms"
   ]
  },
  {
   "cell_type": "markdown",
   "metadata": {},
   "source": [
    "### Radio sniffer\n",
    "\n",
    "One of the key feature of IoT-LAB is the automatic monitoring on energy consumption and radio activity, thanks to a Control Node, associated to the experiment node. You do not have to bring a firmware for this Control Node, but just specify its configuration through what we call a 'profile'. Each user can manage his collection of profiles. Here you will create one.\n",
    "\n",
    "Launch the command to create a sniffer profile on the default RIOT's radio channel."
   ]
  },
  {
   "cell_type": "code",
   "execution_count": null,
   "metadata": {},
   "outputs": [],
   "source": [
    "!iotlab-profile addm3 -n sniff_26 -sniffer -channels 26"
   ]
  },
  {
   "cell_type": "markdown",
   "metadata": {},
   "source": [
    "After you just have to update the profile configuration of your node which is not the BR. Replace ``<id>`` with the good value."
   ]
  },
  {
   "cell_type": "code",
   "execution_count": null,
   "metadata": {},
   "outputs": [],
   "source": [
    "!iotlab-node --update-profile sniff_26 -l grenoble,m3,<id>"
   ]
  },
  {
   "cell_type": "markdown",
   "metadata": {},
   "source": [
    "Connect to the SSH frontend and replace ``<site>`` with the good value."
   ]
  },
  {
   "cell_type": "raw",
   "metadata": {},
   "source": [
    "ssh $IOTLAB_LOGIN@<site>.iot-lab.info"
   ]
  },
  {
   "cell_type": "markdown",
   "metadata": {},
   "source": [
    "From the frontend SSH launch the sniffer_aggregator command. This command aggregates all the nodes sniffer links (TCP socket on port 30000). By default t it encapsulates packet as ZigBee Encapsulation Protocol (ZEP). With the -r option 802.15.4 payload are extracted and saved in a 802.15.4_link_layer pcap file directly usable in wireshark network traffic analyser."
   ]
  },
  {
   "cell_type": "raw",
   "metadata": {},
   "source": [
    "<login>@<site>:~$ sniffer_aggregator -r -d -o - | tshark -V -i - > sniffer.pcap"
   ]
  },
  {
   "cell_type": "markdown",
   "metadata": {},
   "source": [
    "Now go to the RIOT shell node and ping6 Google server (only once with option -c 1)"
   ]
  },
  {
   "cell_type": "raw",
   "metadata": {},
   "source": [
    "> ping6 -c 1 2a00:1450:4007:80f::2003\n",
    "ping6 -c 1 2a00:1450:4007:80f::2003\n",
    "12 bytes from 2a00:1450:4007:80f::2003: icmp_seq=0 ttl=50 rssi=-58 dBm time=65.511 ms\n",
    "\n",
    "--- 2a00:1450:4007:80f::2003 PING statistics ---\n",
    "1 packets transmitted, 1 packets received, 0% packet loss\n",
    "round-trip min/avg/max = 65.511/65.511/65.511 ms"
   ]
  },
  {
   "cell_type": "markdown",
   "metadata": {},
   "source": [
    "On the sniffer aggregator shell you must see that you have captured packets. Stop it with `Ctr+C` shortcut when you have at least 6 packets captured. Edit the pcap file and analyse the traffic.\n"
   ]
  },
  {
   "cell_type": "raw",
   "metadata": {},
   "source": [
    "<login>@<site>:~$ less sniffer.pcap  \n",
    "# use q character shortcut to exit"
   ]
  },
  {
   "cell_type": "markdown",
   "metadata": {},
   "source": [
    "From the frame1 (first packet) you can see the IEEE 802.15.4 data, 6LoWPAN and Internet Protocol version 6 layer.\n",
    "\n",
    "* In the 802.15.4 section you can see the mac address of the source and destination packet. You can retrieve the mac address of your node which executes the ping6 address in the Src field.\n",
    "\n",
    "* In the 6LoWPAN section you can see the IPV6 address of the source and destination packet.\n",
    "\n",
    "* In the IPv6 section you can see the ICMP message which corresponds to a Echo ping request (ping6 command)\n",
    "\n",
    "From the frame2 you should see the ICMP message from the Google server which corresponds to Echo ping reply.\n",
    "\n",
    "In the next frames you can discover the Neighbor Discovery Protocol traffic between the border router and the node. You should see Neighbor Solicitation and Advertisement message exchanged  between the border router and the node.\n"
   ]
  },
  {
   "cell_type": "markdown",
   "metadata": {},
   "source": [
    "### Free up the resources\n",
    "\n",
    "Since you finished the training, stop your experiment to free up the experiment nodes:"
   ]
  },
  {
   "cell_type": "code",
   "execution_count": null,
   "metadata": {},
   "outputs": [],
   "source": [
    "!iotlab-experiment stop"
   ]
  },
  {
   "cell_type": "markdown",
   "metadata": {},
   "source": [
    "The serial link connection through SSH and the ethos process will be closed automatically."
   ]
  }
 ],
 "metadata": {
  "kernelspec": {
   "display_name": "Python 3",
   "language": "python",
   "name": "python3"
  },
  "language_info": {
   "codemirror_mode": {
    "name": "ipython",
    "version": 3
   },
   "file_extension": ".py",
   "mimetype": "text/x-python",
   "name": "python",
   "nbconvert_exporter": "python",
   "pygments_lexer": "ipython3",
   "version": "3.6.9"
  }
 },
 "nbformat": 4,
 "nbformat_minor": 4
}
