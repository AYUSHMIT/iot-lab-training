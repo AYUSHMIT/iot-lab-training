{
 "cells": [
  {
   "cell_type": "markdown",
   "metadata": {},
   "source": [
    "## Welcome to the IoT-LAB testbed training\n",
    "\n",
    "This repository contains training resources to easily start using the IoT-LAB\n",
    "testbed.\n",
    "\n",
    "**Important:** if it your first time on IoT-LAB, or if you are not following the IoT Mooc, we recommend that you start by following [this notebook](getting-started/setup/setup.ipynb).\n",
    "\n",
    "The training is divided in XX sections:\n",
    "\n",
    "### First experiment\n",
    "\n",
    "In this section, you will learn how to submit an experiment, flash a precompiled firmware and read the serial port, via the command line.\n",
    "\n",
    "Just click on [this link](getting-started/experiment/flash-firmware.ipynb).\n",
    "\n",
    "### Program a basic firmware using RIOT\n",
    "\n",
    "[RIOT](https://riot-os.org) is an open-source operating system for microcontrollers.\n",
    "\n",
    "#### [1. First application](riot-basics/hello-world/hello-world.ipynb)\n",
    "\n",
    "#### [2. Using the shell](riot-basics/shell/shell.ipynb)\n",
    "\n",
    "#### [3. Threading](riot-basics/threading/threading.ipynb)\n",
    "\n",
    "#### [4. Timers](riot-basics/timers/timers.ipynb)\n",
    "\n",
    "#### [5. Sensors](riot-basics/sensors/sensors.ipynb)\n",
    "\n",
    "### Low-power networking on IoT-LAB\n",
    "\n",
    "In this section, you will learn the basics of lower power mesh networks, especially 802.15.4, and how to program a firmware and use this technology on the devices provided by the testbed.\n",
    "\n",
    "etc\n",
    "\n",
    "### Security\n",
    "\n",
    "- Cryptography\n",
    "- DTLS\n",
    "- OTA\n"
   ]
  }
 ],
 "metadata": {
  "kernelspec": {
   "display_name": "Python 3",
   "language": "python",
   "name": "python3"
  },
  "language_info": {
   "codemirror_mode": {
    "name": "ipython",
    "version": 3
   },
   "file_extension": ".py",
   "mimetype": "text/x-python",
   "name": "python",
   "nbconvert_exporter": "python",
   "pygments_lexer": "ipython3",
   "version": "3.6.8"
  }
 },
 "nbformat": 4,
 "nbformat_minor": 4
}
